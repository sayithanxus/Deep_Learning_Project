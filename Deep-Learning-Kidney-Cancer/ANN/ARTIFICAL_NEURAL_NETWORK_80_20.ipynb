{
  "cells": [
    {
      "cell_type": "markdown",
      "metadata": {
        "id": "TOwpC5WB5rCn"
      },
      "source": [
        "#3.YAPAY SİNİR AĞI TASARLAYARAK MODELİN PERFORMANSINI DEĞERLENDİRME VE TEST VERİSİNİN ACCURACY, PRECISION, RECALL VE F1 SKORU, KARMAŞIKLIK MATRİSİ, CLASSIFICATION REPORT'UNU GÖSTERME"
      ]
    },
    {
      "cell_type": "code",
      "execution_count": 1,
      "metadata": {
        "colab": {
          "base_uri": "https://localhost:8080/"
        },
        "id": "k0xhe5-f5wGF",
        "outputId": "cb33c074-7d47-43a9-a388-32ebcb4bacad"
      },
      "outputs": [
        {
          "name": "stdout",
          "output_type": "stream",
          "text": [
            "Drive already mounted at /gdrive; to attempt to forcibly remount, call drive.mount(\"/gdrive\", force_remount=True).\n"
          ]
        }
      ],
      "source": [
        "from google.colab import drive\n",
        "drive.mount('/gdrive')"
      ]
    },
    {
      "cell_type": "code",
      "execution_count": 2,
      "metadata": {
        "id": "2-CdE8HM5y88"
      },
      "outputs": [],
      "source": [
        "import numpy as np\n",
        "import pandas as pd\n",
        "import matplotlib.pyplot as plt\n",
        "import seaborn as sns\n",
        "import cv2\n",
        "import os\n",
        "from sklearn.model_selection import train_test_split\n",
        "from sklearn.preprocessing import StandardScaler\n",
        "from sklearn.metrics import accuracy_score, precision_score, recall_score, f1_score, confusion_matrix, classification_report\n",
        "import tensorflow as tf\n",
        "from keras.layers import Input, Dense, Activation, BatchNormalization, Flatten, Dropout\n",
        "from keras.models import Sequential\n",
        "from keras.optimizers import Adam"
      ]
    },
    {
      "cell_type": "code",
      "execution_count": 3,
      "metadata": {
        "colab": {
          "base_uri": "https://localhost:8080/"
        },
        "id": "x8vODZFr7OOx",
        "outputId": "4131c1cf-73ae-4064-9bb2-a177b4b68ac6"
      },
      "outputs": [
        {
          "name": "stdout",
          "output_type": "stream",
          "text": [
            "['Tumor', 'Normal']\n"
          ]
        }
      ],
      "source": [
        "print(os.listdir(\"/gdrive/MyDrive/Kidney_Cancer/Kidney Cancer\"))\n",
        "\n",
        "DATADIR = '/gdrive/MyDrive/Kidney_Cancer/Kidney Cancer'"
      ]
    },
    {
      "cell_type": "code",
      "execution_count": 4,
      "metadata": {
        "id": "uMAa6yQG7ZUz"
      },
      "outputs": [],
      "source": [
        "CATEGORIES = [\"Tumor\", \"Normal\"]\n",
        "IMG_SIZE = 100"
      ]
    },
    {
      "cell_type": "code",
      "execution_count": 5,
      "metadata": {
        "id": "6pDukTw68Xk0"
      },
      "outputs": [],
      "source": [
        "all_data = []\n",
        "for category in CATEGORIES:\n",
        "    path = os.path.join(DATADIR, category)\n",
        "    class_num = CATEGORIES.index(category)\n",
        "    for img in os.listdir(path):\n",
        "        try:\n",
        "            img_array = cv2.imread(os.path.join(path, img))\n",
        "            new_array = cv2.resize(img_array, (IMG_SIZE, IMG_SIZE))\n",
        "            all_data.append([new_array, class_num])\n",
        "        except Exception as e:\n",
        "            pass"
      ]
    },
    {
      "cell_type": "code",
      "execution_count": 6,
      "metadata": {
        "colab": {
          "base_uri": "https://localhost:8080/"
        },
        "id": "LRaPDUNw8kr7",
        "outputId": "c56a780d-b424-44eb-dbf4-e41c247409f5"
      },
      "outputs": [
        {
          "name": "stdout",
          "output_type": "stream",
          "text": [
            "Toplam Görüntü Sayısı:  10000\n"
          ]
        }
      ],
      "source": [
        "print(\"Toplam Görüntü Sayısı: \", len(all_data))"
      ]
    },
    {
      "cell_type": "code",
      "execution_count": 7,
      "metadata": {
        "id": "4RTCozRk8lno"
      },
      "outputs": [],
      "source": [
        "X = []\n",
        "y = []\n",
        "\n",
        "for features, label in all_data:\n",
        "    X.append(features)\n",
        "    y.append(label)\n",
        "\n",
        "X = np.array(X)\n",
        "y = np.array(y)\n"
      ]
    },
    {
      "cell_type": "code",
      "execution_count": 8,
      "metadata": {
        "id": "x23JRC6U_csc"
      },
      "outputs": [],
      "source": [
        "\n",
        "# Veriyi normalize etme\n",
        "X = X / 255.0"
      ]
    },
    {
      "cell_type": "code",
      "execution_count": 9,
      "metadata": {
        "id": "FxaHMizv8yh4"
      },
      "outputs": [],
      "source": [
        "# Train-test split\n",
        "x_train, x_test, y_train, y_test = train_test_split(X, y, test_size=0.20, random_state =42)\n",
        "\n",
        "x_train, x_val, y_train, y_val = train_test_split(x_train, y_train, test_size=0.10, random_state=42)"
      ]
    },
    {
      "cell_type": "code",
      "execution_count": 10,
      "metadata": {
        "id": "C36YeIaFEnvJ"
      },
      "outputs": [],
      "source": [
        "x_train = np.array(x_train)\n",
        "x_test = np.array(x_test)\n",
        "\n",
        "y_train = np.array(y_train)\n",
        "y_test = np.array(y_test)\n",
        "\n",
        "x_val = np.array(x_val)\n",
        "y_val = np.array(y_val)"
      ]
    },
    {
      "cell_type": "code",
      "execution_count": 11,
      "metadata": {
        "colab": {
          "base_uri": "https://localhost:8080/"
        },
        "id": "c6Fzo75dEp5o",
        "outputId": "e50e7741-efda-42da-9c46-bd1e99a307d8"
      },
      "outputs": [
        {
          "name": "stdout",
          "output_type": "stream",
          "text": [
            "(7200, 100, 100, 3)\n",
            "(2000, 100, 100, 3)\n",
            "(800, 100, 100, 3)\n",
            "(7200,)\n",
            "(2000,)\n",
            "(800,)\n"
          ]
        }
      ],
      "source": [
        "print(x_train.shape)\n",
        "print(x_test.shape)\n",
        "print(x_val.shape)\n",
        "\n",
        "print(y_train.shape)\n",
        "print(y_test.shape)\n",
        "print(y_val.shape)"
      ]
    },
    {
      "cell_type": "code",
      "execution_count": 12,
      "metadata": {
        "id": "m3DGkTHwEtsi"
      },
      "outputs": [],
      "source": [
        "train_yCl = tf.keras.utils.to_categorical(y_train, num_classes=2)\n",
        "test_yCl = tf.keras.utils.to_categorical(y_test, num_classes=2)\n",
        "valid_yCl = tf.keras.utils.to_categorical(y_val, num_classes=2)"
      ]
    },
    {
      "cell_type": "code",
      "execution_count": 13,
      "metadata": {
        "id": "7sbpy6hw85nO"
      },
      "outputs": [],
      "source": [
        "# Yapay Sinir Ağı Modeli\n",
        "model_nn = Sequential()\n",
        "model_nn.add(Flatten(input_shape=(IMG_SIZE, IMG_SIZE, 3)))\n",
        "model_nn.add(Dense(256, activation='relu'))\n",
        "model_nn.add(Dropout(0.4))\n",
        "model_nn.add(Dense(128, activation='relu'))\n",
        "model_nn.add(Dropout(0.4))\n",
        "model_nn.add(Dense(2, activation='softmax'))"
      ]
    },
    {
      "cell_type": "code",
      "execution_count": 14,
      "metadata": {
        "id": "hYWhqJrO8-lA"
      },
      "outputs": [],
      "source": [
        "# Modeli derleme\n",
        "model_nn.compile(optimizer='adam', loss='binary_crossentropy', metrics=['accuracy'])"
      ]
    },
    {
      "cell_type": "code",
      "execution_count": 15,
      "metadata": {
        "id": "KdpyWo_pQKOw"
      },
      "outputs": [],
      "source": [
        "from tensorflow import keras\n",
        "\n",
        "callback_list = [\n",
        "    keras.callbacks.ModelCheckpoint(\n",
        "        filepath='model.h5',\n",
        "        monitor = 'val_accuracy', save_best_only=True, verbose=3\n",
        "    ),\n",
        "    keras.callbacks.EarlyStopping(monitor='val_loss', patience=10, verbose=3)\n",
        "]"
      ]
    },
    {
      "cell_type": "code",
      "execution_count": 16,
      "metadata": {
        "colab": {
          "base_uri": "https://localhost:8080/"
        },
        "id": "qSVksPC8AcP1",
        "outputId": "31719b3b-96f6-4b63-cfa9-840c0b6a1f6a"
      },
      "outputs": [
        {
          "name": "stdout",
          "output_type": "stream",
          "text": [
            "Epoch 1/30\n",
            "113/113 [==============================] - ETA: 0s - loss: 0.4597 - accuracy: 0.8497\n",
            "Epoch 1: val_accuracy improved from -inf to 0.97625, saving model to model.h5\n"
          ]
        },
        {
          "name": "stderr",
          "output_type": "stream",
          "text": [
            "/usr/local/lib/python3.10/dist-packages/keras/src/engine/training.py:3103: UserWarning: You are saving your model as an HDF5 file via `model.save()`. This file format is considered legacy. We recommend using instead the native Keras format, e.g. `model.save('my_model.keras')`.\n",
            "  saving_api.save_model(\n"
          ]
        },
        {
          "name": "stdout",
          "output_type": "stream",
          "text": [
            "113/113 [==============================] - 19s 144ms/step - loss: 0.4597 - accuracy: 0.8497 - val_loss: 0.0871 - val_accuracy: 0.9762\n",
            "Epoch 2/30\n",
            "113/113 [==============================] - ETA: 0s - loss: 0.0893 - accuracy: 0.9708\n",
            "Epoch 2: val_accuracy improved from 0.97625 to 0.98750, saving model to model.h5\n",
            "113/113 [==============================] - 17s 147ms/step - loss: 0.0893 - accuracy: 0.9708 - val_loss: 0.0382 - val_accuracy: 0.9875\n",
            "Epoch 3/30\n",
            "113/113 [==============================] - ETA: 0s - loss: 0.0607 - accuracy: 0.9796\n",
            "Epoch 3: val_accuracy improved from 0.98750 to 0.99750, saving model to model.h5\n",
            "113/113 [==============================] - 16s 139ms/step - loss: 0.0607 - accuracy: 0.9796 - val_loss: 0.0175 - val_accuracy: 0.9975\n",
            "Epoch 4/30\n",
            "113/113 [==============================] - ETA: 0s - loss: 0.0605 - accuracy: 0.9772\n",
            "Epoch 4: val_accuracy did not improve from 0.99750\n",
            "113/113 [==============================] - 16s 139ms/step - loss: 0.0605 - accuracy: 0.9772 - val_loss: 0.0147 - val_accuracy: 0.9962\n",
            "Epoch 5/30\n",
            "113/113 [==============================] - ETA: 0s - loss: 0.0531 - accuracy: 0.9800\n",
            "Epoch 5: val_accuracy did not improve from 0.99750\n",
            "113/113 [==============================] - 16s 138ms/step - loss: 0.0531 - accuracy: 0.9800 - val_loss: 0.0237 - val_accuracy: 0.9937\n",
            "Epoch 6/30\n",
            "113/113 [==============================] - ETA: 0s - loss: 0.0511 - accuracy: 0.9783\n",
            "Epoch 6: val_accuracy did not improve from 0.99750\n",
            "113/113 [==============================] - 15s 136ms/step - loss: 0.0511 - accuracy: 0.9783 - val_loss: 0.0160 - val_accuracy: 0.9950\n",
            "Epoch 7/30\n",
            "113/113 [==============================] - ETA: 0s - loss: 0.0458 - accuracy: 0.9808\n",
            "Epoch 7: val_accuracy did not improve from 0.99750\n",
            "113/113 [==============================] - 17s 150ms/step - loss: 0.0458 - accuracy: 0.9808 - val_loss: 0.0166 - val_accuracy: 0.9962\n",
            "Epoch 8/30\n",
            "113/113 [==============================] - ETA: 0s - loss: 0.0560 - accuracy: 0.9779\n",
            "Epoch 8: val_accuracy improved from 0.99750 to 0.99875, saving model to model.h5\n",
            "113/113 [==============================] - 16s 146ms/step - loss: 0.0560 - accuracy: 0.9779 - val_loss: 0.0091 - val_accuracy: 0.9987\n",
            "Epoch 9/30\n",
            "113/113 [==============================] - ETA: 0s - loss: 0.0414 - accuracy: 0.9828\n",
            "Epoch 9: val_accuracy did not improve from 0.99875\n",
            "113/113 [==============================] - 16s 141ms/step - loss: 0.0414 - accuracy: 0.9828 - val_loss: 0.0099 - val_accuracy: 0.9987\n",
            "Epoch 10/30\n",
            "113/113 [==============================] - ETA: 0s - loss: 0.0352 - accuracy: 0.9851\n",
            "Epoch 10: val_accuracy did not improve from 0.99875\n",
            "113/113 [==============================] - 15s 137ms/step - loss: 0.0352 - accuracy: 0.9851 - val_loss: 0.0321 - val_accuracy: 0.9937\n",
            "Epoch 11/30\n",
            "113/113 [==============================] - ETA: 0s - loss: 0.0427 - accuracy: 0.9772\n",
            "Epoch 11: val_accuracy did not improve from 0.99875\n",
            "113/113 [==============================] - 16s 143ms/step - loss: 0.0427 - accuracy: 0.9772 - val_loss: 0.0256 - val_accuracy: 0.9950\n",
            "Epoch 12/30\n",
            "113/113 [==============================] - ETA: 0s - loss: 0.0358 - accuracy: 0.9787\n",
            "Epoch 12: val_accuracy did not improve from 0.99875\n",
            "113/113 [==============================] - 16s 141ms/step - loss: 0.0358 - accuracy: 0.9787 - val_loss: 0.0274 - val_accuracy: 0.9950\n",
            "Epoch 13/30\n",
            "113/113 [==============================] - ETA: 0s - loss: 0.0372 - accuracy: 0.9849\n",
            "Epoch 13: val_accuracy did not improve from 0.99875\n",
            "113/113 [==============================] - 16s 141ms/step - loss: 0.0372 - accuracy: 0.9849 - val_loss: 0.0432 - val_accuracy: 0.9900\n",
            "Epoch 14/30\n",
            "113/113 [==============================] - ETA: 0s - loss: 0.0568 - accuracy: 0.9740\n",
            "Epoch 14: val_accuracy did not improve from 0.99875\n",
            "113/113 [==============================] - 17s 147ms/step - loss: 0.0568 - accuracy: 0.9740 - val_loss: 0.0133 - val_accuracy: 0.9962\n",
            "Epoch 15/30\n",
            "113/113 [==============================] - ETA: 0s - loss: 0.0417 - accuracy: 0.9843\n",
            "Epoch 15: val_accuracy did not improve from 0.99875\n",
            "113/113 [==============================] - 17s 146ms/step - loss: 0.0417 - accuracy: 0.9843 - val_loss: 0.0061 - val_accuracy: 0.9987\n",
            "Epoch 16/30\n",
            "113/113 [==============================] - ETA: 0s - loss: 0.0371 - accuracy: 0.9857\n",
            "Epoch 16: val_accuracy did not improve from 0.99875\n",
            "113/113 [==============================] - 15s 135ms/step - loss: 0.0371 - accuracy: 0.9857 - val_loss: 0.0051 - val_accuracy: 0.9987\n",
            "Epoch 17/30\n",
            "113/113 [==============================] - ETA: 0s - loss: 0.0306 - accuracy: 0.9893\n",
            "Epoch 17: val_accuracy did not improve from 0.99875\n",
            "113/113 [==============================] - 16s 137ms/step - loss: 0.0306 - accuracy: 0.9893 - val_loss: 0.0150 - val_accuracy: 0.9987\n",
            "Epoch 18/30\n",
            "113/113 [==============================] - ETA: 0s - loss: 0.0260 - accuracy: 0.9911\n",
            "Epoch 18: val_accuracy did not improve from 0.99875\n",
            "113/113 [==============================] - 15s 136ms/step - loss: 0.0260 - accuracy: 0.9911 - val_loss: 0.0458 - val_accuracy: 0.9925\n",
            "Epoch 19/30\n",
            "113/113 [==============================] - ETA: 0s - loss: 0.0366 - accuracy: 0.9879\n",
            "Epoch 19: val_accuracy did not improve from 0.99875\n",
            "113/113 [==============================] - 16s 140ms/step - loss: 0.0366 - accuracy: 0.9879 - val_loss: 0.0170 - val_accuracy: 0.9975\n",
            "Epoch 20/30\n",
            "113/113 [==============================] - ETA: 0s - loss: 0.0440 - accuracy: 0.9856\n",
            "Epoch 20: val_accuracy did not improve from 0.99875\n",
            "113/113 [==============================] - 16s 145ms/step - loss: 0.0440 - accuracy: 0.9856 - val_loss: 0.0132 - val_accuracy: 0.9975\n",
            "Epoch 21/30\n",
            "113/113 [==============================] - ETA: 0s - loss: 0.0321 - accuracy: 0.9904\n",
            "Epoch 21: val_accuracy did not improve from 0.99875\n",
            "113/113 [==============================] - 16s 138ms/step - loss: 0.0321 - accuracy: 0.9904 - val_loss: 0.0124 - val_accuracy: 0.9975\n",
            "Epoch 22/30\n",
            "113/113 [==============================] - ETA: 0s - loss: 0.0268 - accuracy: 0.9910\n",
            "Epoch 22: val_accuracy did not improve from 0.99875\n",
            "113/113 [==============================] - 14s 126ms/step - loss: 0.0268 - accuracy: 0.9910 - val_loss: 0.0085 - val_accuracy: 0.9962\n",
            "Epoch 23/30\n",
            "113/113 [==============================] - ETA: 0s - loss: 0.0665 - accuracy: 0.9783\n",
            "Epoch 23: val_accuracy did not improve from 0.99875\n",
            "113/113 [==============================] - 16s 145ms/step - loss: 0.0665 - accuracy: 0.9783 - val_loss: 0.0178 - val_accuracy: 0.9937\n",
            "Epoch 24/30\n",
            "113/113 [==============================] - ETA: 0s - loss: 0.0431 - accuracy: 0.9832\n",
            "Epoch 24: val_accuracy did not improve from 0.99875\n",
            "113/113 [==============================] - 15s 135ms/step - loss: 0.0431 - accuracy: 0.9832 - val_loss: 0.0207 - val_accuracy: 0.9937\n",
            "Epoch 25/30\n",
            "113/113 [==============================] - ETA: 0s - loss: 0.0389 - accuracy: 0.9865\n",
            "Epoch 25: val_accuracy did not improve from 0.99875\n",
            "113/113 [==============================] - 16s 143ms/step - loss: 0.0389 - accuracy: 0.9865 - val_loss: 0.0146 - val_accuracy: 0.9975\n",
            "Epoch 26/30\n",
            "113/113 [==============================] - ETA: 0s - loss: 0.0490 - accuracy: 0.9796\n",
            "Epoch 26: val_accuracy did not improve from 0.99875\n",
            "113/113 [==============================] - 15s 137ms/step - loss: 0.0490 - accuracy: 0.9796 - val_loss: 0.0146 - val_accuracy: 0.9962\n",
            "Epoch 26: early stopping\n"
          ]
        }
      ],
      "source": [
        "# Modeli eğitme\n",
        "history = model_nn.fit(x_train, train_yCl,\n",
        "                    batch_size=64,\n",
        "                    validation_data = (x_val, valid_yCl),\n",
        "                    callbacks = callback_list,\n",
        "                    epochs = 30\n",
        "                    )"
      ]
    },
    {
      "cell_type": "code",
      "execution_count": 17,
      "metadata": {
        "colab": {
          "base_uri": "https://localhost:8080/"
        },
        "id": "Yrv-YumnAgd4",
        "outputId": "1212b719-e191-4938-ad0c-3feb76f23b4f"
      },
      "outputs": [
        {
          "name": "stdout",
          "output_type": "stream",
          "text": [
            "25/25 [==============================] - 1s 39ms/step - loss: 0.0146 - accuracy: 0.9962\n",
            "Validation Accuracy (Neural Network): 99.62%\n",
            "63/63 [==============================] - 2s 35ms/step - loss: 0.0199 - accuracy: 0.9930\n",
            "Test Accuracy (Neural Network): 99.30%\n",
            "225/225 [==============================] - 5s 24ms/step - loss: 6.6020e-04 - accuracy: 0.9999\n",
            "Train Accuracy (Neural Network): 1.00%\n"
          ]
        }
      ],
      "source": [
        "# Modelin performansını değerlendirme\n",
        "score_nn_val_transfer = model_nn.evaluate(x_val, valid_yCl)\n",
        "print(\"Validation Accuracy (Neural Network): {:.2f}%\".format(score_nn_val_transfer[1] * 100))\n",
        "\n",
        "score_nn_test_transfer = model_nn.evaluate(x_test, test_yCl)\n",
        "print(\"Test Accuracy (Neural Network): {:.2f}%\".format(score_nn_test_transfer[1] * 100))\n",
        "\n",
        "score_nn_train_transfer = model_nn.evaluate(x_train, train_yCl)\n",
        "print(\"Train Accuracy (Neural Network): {:.2f}%\".format(score_nn_train_transfer[1]))\n"
      ]
    },
    {
      "cell_type": "code",
      "execution_count": 18,
      "metadata": {
        "colab": {
          "base_uri": "https://localhost:8080/"
        },
        "id": "n-HJsstbIaRM",
        "outputId": "bcdf64d2-ae20-44f7-f2ea-b367205e9102"
      },
      "outputs": [
        {
          "name": "stdout",
          "output_type": "stream",
          "text": [
            "63/63 [==============================] - 2s 29ms/step\n"
          ]
        }
      ],
      "source": [
        "# Tahmin yapma\n",
        "y_pred_nn = model_nn.predict(x_test)\n",
        "y_pred_classes_nn = np.argmax(y_pred_nn, axis=1)\n"
      ]
    },
    {
      "cell_type": "code",
      "execution_count": 19,
      "metadata": {
        "colab": {
          "base_uri": "https://localhost:8080/"
        },
        "id": "tCXgA3p3Aj7K",
        "outputId": "b4919569-ef68-4bdf-b8ef-07419da26ad9"
      },
      "outputs": [
        {
          "name": "stdout",
          "output_type": "stream",
          "text": [
            "Neural Network Test Accuracy: 0.99\n",
            "Neural Network Test Precision: 0.99\n",
            "Neural Network Test Recall: 1.00\n",
            "Neural Network Test F1 Score: 0.99\n",
            "Neural Network Confusion Matrix:\n",
            " [[998  14]\n",
            " [  0 988]]\n",
            "Neural Network Classification Report:\n",
            "               precision    recall  f1-score   support\n",
            "\n",
            "           0       1.00      0.99      0.99      1012\n",
            "           1       0.99      1.00      0.99       988\n",
            "\n",
            "    accuracy                           0.99      2000\n",
            "   macro avg       0.99      0.99      0.99      2000\n",
            "weighted avg       0.99      0.99      0.99      2000\n",
            "\n"
          ]
        }
      ],
      "source": [
        "\n",
        "# Accuracy, Precision, Recall, F1 Score\n",
        "accuracy_nn = accuracy_score(y_test, y_pred_classes_nn)\n",
        "precision_nn = precision_score(y_test, y_pred_classes_nn)\n",
        "recall_nn = recall_score(y_test, y_pred_classes_nn)\n",
        "f1_nn = f1_score(y_test, y_pred_classes_nn)\n",
        "\n",
        "print(\"Neural Network Test Accuracy: {:.2f}\".format(accuracy_nn))\n",
        "print(\"Neural Network Test Precision: {:.2f}\".format(precision_nn))\n",
        "print(\"Neural Network Test Recall: {:.2f}\".format(recall_nn))\n",
        "print(\"Neural Network Test F1 Score: {:.2f}\".format(f1_nn))\n",
        "\n",
        "# Karmaşıklık Matrisi\n",
        "conf_matrix_nn = confusion_matrix(y_test, y_pred_classes_nn)\n",
        "print(\"Neural Network Confusion Matrix:\\n\", conf_matrix_nn)\n",
        "\n",
        "# Classification Report\n",
        "class_report_nn = classification_report(y_test, y_pred_classes_nn)\n",
        "print(\"Neural Network Classification Report:\\n\", class_report_nn)\n"
      ]
    }
  ],
  "metadata": {
    "colab": {
      "provenance": []
    },
    "kernelspec": {
      "display_name": "Python 3",
      "name": "python3"
    },
    "language_info": {
      "name": "python"
    }
  },
  "nbformat": 4,
  "nbformat_minor": 0
}
