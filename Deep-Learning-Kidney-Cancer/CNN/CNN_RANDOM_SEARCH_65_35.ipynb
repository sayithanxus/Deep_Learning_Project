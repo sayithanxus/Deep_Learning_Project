{
  "cells": [
    {
      "cell_type": "markdown",
      "metadata": {
        "id": "w6tBlq7AEWYs"
      },
      "source": [
        "# Veri Seti Bağlama"
      ]
    },
    {
      "cell_type": "code",
      "execution_count": 1,
      "metadata": {
        "colab": {
          "base_uri": "https://localhost:8080/"
        },
        "id": "ewVocNnIEiFb",
        "outputId": "95085a20-9c08-4b64-f893-6f2ae436c96b"
      },
      "outputs": [
        {
          "output_type": "stream",
          "name": "stdout",
          "text": [
            "Drive already mounted at /gdrive; to attempt to forcibly remount, call drive.mount(\"/gdrive\", force_remount=True).\n"
          ]
        }
      ],
      "source": [
        "#Drive bağlantısı yapıldı\n",
        "from google.colab import drive\n",
        "drive.mount('/gdrive')"
      ]
    },
    {
      "cell_type": "code",
      "execution_count": 2,
      "metadata": {
        "id": "tKaP0_W5EwSy"
      },
      "outputs": [],
      "source": [
        "#Kütüphaneler eklendi\n",
        "import numpy as np\n",
        "import pandas as pd\n",
        "import matplotlib.pyplot as plt\n",
        "import seaborn as sns\n",
        "import cv2\n",
        "import os\n",
        "from sklearn.model_selection import train_test_split\n",
        "from keras.layers import Input, Dense, Activation, BatchNormalization, Flatten, Conv2D, MaxPooling2D, Dropout\n",
        "from keras.models import Sequential\n",
        "import tensorflow as tf\n",
        "from tensorflow import keras\n"
      ]
    },
    {
      "cell_type": "code",
      "execution_count": 3,
      "metadata": {
        "colab": {
          "base_uri": "https://localhost:8080/"
        },
        "id": "dc3BFoapEpku",
        "outputId": "feb756cb-afc0-47ee-df3f-e4861a601f02"
      },
      "outputs": [
        {
          "output_type": "stream",
          "name": "stdout",
          "text": [
            "['Normal', 'Tumor']\n"
          ]
        }
      ],
      "source": [
        "print(os.listdir(\"/gdrive/MyDrive/Kidney Cancer\"))\n",
        "\n",
        "DATADIR = '/gdrive/MyDrive/Kidney Cancer'"
      ]
    },
    {
      "cell_type": "code",
      "execution_count": 4,
      "metadata": {
        "id": "8YONG2LgEpo2"
      },
      "outputs": [],
      "source": [
        "CATEGORIES = [\"Tumor\", \"Normal\"]\n",
        "IMG_SIZE = 220"
      ]
    },
    {
      "cell_type": "code",
      "execution_count": 5,
      "metadata": {
        "id": "TSoHNSppEzbG"
      },
      "outputs": [],
      "source": [
        "all_data = []\n",
        "def create_all_data():\n",
        "    for category in CATEGORIES:\n",
        "        path=os.path.join(DATADIR, category)\n",
        "        class_num=CATEGORIES.index(category)\n",
        "        for img in os.listdir(path):\n",
        "            try:\n",
        "                img_array=cv2.imread(os.path.join(path,img))\n",
        "                new_array=cv2.resize(img_array,(IMG_SIZE,IMG_SIZE))\n",
        "                all_data.append([new_array,class_num])\n",
        "            except Exception as e:\n",
        "                pass\n",
        "create_all_data()"
      ]
    },
    {
      "cell_type": "code",
      "execution_count": 6,
      "metadata": {
        "colab": {
          "base_uri": "https://localhost:8080/"
        },
        "id": "IYnye9_fE08_",
        "outputId": "2d2410b3-c2f4-4e18-cf74-2bba9f80ae0f"
      },
      "outputs": [
        {
          "output_type": "stream",
          "name": "stdout",
          "text": [
            "Toplam Görüntü Sayısı:  10000\n"
          ]
        }
      ],
      "source": [
        "print(\"Toplam Görüntü Sayısı: \", len(all_data))\n"
      ]
    },
    {
      "cell_type": "code",
      "execution_count": 7,
      "metadata": {
        "id": "3xpEj2ahGTTo"
      },
      "outputs": [],
      "source": [
        "X = []\n",
        "y = []\n",
        "\n",
        "for categories, label in all_data:\n",
        "  X.append(categories)\n",
        "  y.append(label)"
      ]
    },
    {
      "cell_type": "markdown",
      "metadata": {
        "id": "HSZsWwaIGzcc"
      },
      "source": [
        "# %65 Train, %35 Test, %10 Validation\n",
        "\n",
        "1.   Liste öğesi\n",
        "2.   Liste öğesi\n",
        "\n"
      ]
    },
    {
      "cell_type": "code",
      "execution_count": 8,
      "metadata": {
        "id": "VvE4AvcMG-A_"
      },
      "outputs": [],
      "source": [
        "from sklearn.model_selection import train_test_split\n",
        "\n",
        "x_train, x_test, y_train, y_test = train_test_split(X, y, test_size=0.35, random_state =42)\n",
        "\n",
        "x_train, x_val, y_train, y_val = train_test_split(x_train, y_train, test_size=0.10, random_state=42)"
      ]
    },
    {
      "cell_type": "code",
      "execution_count": 9,
      "metadata": {
        "id": "U-bBCX-PG_-H"
      },
      "outputs": [],
      "source": [
        "x_train = np.array(x_train)\n",
        "x_test = np.array(x_test)\n",
        "\n",
        "y_train = np.array(y_train)\n",
        "y_test = np.array(y_test)\n",
        "\n",
        "x_val = np.array(x_val)\n",
        "y_val = np.array(y_val)"
      ]
    },
    {
      "cell_type": "code",
      "execution_count": 10,
      "metadata": {
        "colab": {
          "base_uri": "https://localhost:8080/"
        },
        "id": "yJ0rmMjCHKLu",
        "outputId": "c1a06107-8022-43bc-a1b3-e54a1f6e9378"
      },
      "outputs": [
        {
          "output_type": "stream",
          "name": "stdout",
          "text": [
            "(5850, 220, 220, 3)\n",
            "(3500, 220, 220, 3)\n",
            "(650, 220, 220, 3)\n",
            "(5850,)\n",
            "(3500,)\n",
            "(650,)\n"
          ]
        }
      ],
      "source": [
        "#4.Durum\n",
        "print(x_train.shape)\n",
        "print(x_test.shape)\n",
        "print(x_val.shape)\n",
        "\n",
        "print(y_train.shape)\n",
        "print(y_test.shape)\n",
        "print(y_val.shape)"
      ]
    },
    {
      "cell_type": "markdown",
      "metadata": {
        "id": "eIi0FpxeOv-n"
      },
      "source": [
        "#1.CNN MODEL TASARLAMA ,TRAIN,TEST,VALIDATION DEĞERLERİ,TEST VERİSİNİN ACCURACY,PRECISION,RECALL **VE** F1 SCORE,KARMAŞIKLIK MATRİSİ,CLASSIFICATİON REPORT GÖSTERME"
      ]
    },
    {
      "cell_type": "code",
      "execution_count": 11,
      "metadata": {
        "id": "C_IugAjGbFfX"
      },
      "outputs": [],
      "source": [
        "import tensorflow as tf\n",
        "\n",
        "train_yCl = tf.keras.utils.to_categorical(y_train, num_classes=2)\n",
        "test_yCl = tf.keras.utils.to_categorical(y_test, num_classes=2)\n",
        "valid_yCl = tf.keras.utils.to_categorical(y_val, num_classes=2)"
      ]
    },
    {
      "cell_type": "code",
      "execution_count": 12,
      "metadata": {
        "colab": {
          "base_uri": "https://localhost:8080/"
        },
        "id": "eX9J6cbviGr-",
        "outputId": "10ceb316-3543-402c-a741-b3f8b840d38e"
      },
      "outputs": [
        {
          "output_type": "stream",
          "name": "stdout",
          "text": [
            "Requirement already satisfied: keras-tuner in /usr/local/lib/python3.10/dist-packages (1.4.6)\n",
            "Requirement already satisfied: keras in /usr/local/lib/python3.10/dist-packages (from keras-tuner) (2.15.0)\n",
            "Requirement already satisfied: packaging in /usr/local/lib/python3.10/dist-packages (from keras-tuner) (23.2)\n",
            "Requirement already satisfied: requests in /usr/local/lib/python3.10/dist-packages (from keras-tuner) (2.31.0)\n",
            "Requirement already satisfied: kt-legacy in /usr/local/lib/python3.10/dist-packages (from keras-tuner) (1.0.5)\n",
            "Requirement already satisfied: charset-normalizer<4,>=2 in /usr/local/lib/python3.10/dist-packages (from requests->keras-tuner) (3.3.2)\n",
            "Requirement already satisfied: idna<4,>=2.5 in /usr/local/lib/python3.10/dist-packages (from requests->keras-tuner) (3.6)\n",
            "Requirement already satisfied: urllib3<3,>=1.21.1 in /usr/local/lib/python3.10/dist-packages (from requests->keras-tuner) (2.0.7)\n",
            "Requirement already satisfied: certifi>=2017.4.17 in /usr/local/lib/python3.10/dist-packages (from requests->keras-tuner) (2023.11.17)\n"
          ]
        }
      ],
      "source": [
        "!pip install keras-tuner\n",
        "import keras_tuner as kt"
      ]
    },
    {
      "cell_type": "code",
      "execution_count": 13,
      "metadata": {
        "id": "gKm1A_74bIQF",
        "colab": {
          "base_uri": "https://localhost:8080/"
        },
        "outputId": "b4bf8592-febc-48da-c58e-bc1c2eaa400c"
      },
      "outputs": [
        {
          "output_type": "stream",
          "name": "stderr",
          "text": [
            "<ipython-input-13-b59240cffd71>:1: DeprecationWarning: `import kerastuner` is deprecated, please use `import keras_tuner`.\n",
            "  from kerastuner.tuners import RandomSearch\n"
          ]
        }
      ],
      "source": [
        "from kerastuner.tuners import RandomSearch\n",
        "from tensorflow import keras\n",
        "from keras.models import Sequential\n",
        "from keras.layers import Input, Dense, Activation, BatchNormalization, Flatten, Conv2D, MaxPooling2D, Dropout\n",
        "\n",
        "def build_model(hp):\n",
        "    model = Sequential()\n",
        "\n",
        "    model.add(Conv2D(16,(3,3),padding=\"Same\",input_shape=(IMG_SIZE,IMG_SIZE,3)))\n",
        "    model.add(Activation('relu'))\n",
        "    model.add(Conv2D(16,(3,3),padding=\"Same\"))\n",
        "    model.add(Activation('relu'))\n",
        "    model.add(Conv2D(16, (3,3), padding=\"Same\"))\n",
        "    model.add(Activation('relu'))\n",
        "    model.add(MaxPooling2D(pool_size=(2,2)))\n",
        "    model.add(BatchNormalization())\n",
        "    model.add(Dropout(0.1))\n",
        "\n",
        "    model.add(Conv2D(32, (3,3), padding=\"Same\",input_shape=(IMG_SIZE,IMG_SIZE,3)))\n",
        "    model.add(Activation('relu'))\n",
        "    model.add(Conv2D(32, (3,3), padding=\"Same\"))\n",
        "    model.add(Activation('relu'))\n",
        "    model.add(Conv2D(32, (3,3), padding=\"Same\"))\n",
        "    model.add(Activation('relu'))\n",
        "    model.add(MaxPooling2D(pool_size=(2,2)))\n",
        "    model.add(BatchNormalization())\n",
        "    model.add(Dropout(0.1))\n",
        "\n",
        "    model.add(Conv2D(64, (3,3), padding=\"Same\",input_shape=(IMG_SIZE,IMG_SIZE,3)))\n",
        "    model.add(Activation('relu'))\n",
        "    model.add(Conv2D(64, (3,3) , padding=\"Same\"))\n",
        "    model.add(Activation('relu'))\n",
        "    model.add(Conv2D(64, (3,3) , padding=\"Same\"))\n",
        "    model.add(Activation('relu'))\n",
        "    model.add(MaxPooling2D(pool_size=(2,2)))\n",
        "    model.add(BatchNormalization())\n",
        "    model.add(Dropout(0.1))\n",
        "\n",
        "    model.add(Conv2D(128, (3,3), padding=\"Same\",input_shape=(IMG_SIZE,IMG_SIZE,3)))\n",
        "    model.add(Activation('relu'))\n",
        "    model.add(Conv2D(128, (3,3), padding=\"Same\"))\n",
        "    model.add(Activation('relu'))\n",
        "    model.add(Conv2D(128, (3,3), padding=\"Same\"))\n",
        "    model.add(Activation('relu'))\n",
        "    model.add(MaxPooling2D(pool_size=(2,2)))\n",
        "    model.add(BatchNormalization())\n",
        "    model.add(Dropout(0.1))\n",
        "\n",
        "    model.add(Flatten())\n",
        "    model.add(Dense(1024))\n",
        "    model.add(Activation('relu'))\n",
        "    model.add(Dropout(0.27))\n",
        "    model.add(Dense(1024))\n",
        "    model.add(Activation('relu'))\n",
        "    model.add(Dropout(0.27))\n",
        "    model.add(Dense(1024))\n",
        "    model.add(Activation('relu'))\n",
        "    model.add(Dense(2))\n",
        "    model.add(Activation('softmax'))\n",
        "\n",
        "    model.compile(loss=\"categorical_crossentropy\", optimizer=\"adam\", metrics=['accuracy'])\n",
        "    return model\n"
      ]
    },
    {
      "cell_type": "code",
      "execution_count": 14,
      "metadata": {
        "id": "9oXBih5TJ-tI"
      },
      "outputs": [],
      "source": [
        "from tensorflow import keras\n",
        "\n",
        "callback_list = [\n",
        "    keras.callbacks.ModelCheckpoint(\n",
        "        filepath='model.h5',\n",
        "        monitor = 'val_accuracy', save_best_only=True, verbose=3\n",
        "    ),\n",
        "    keras.callbacks.EarlyStopping(monitor='val_loss', patience=3, verbose=3)\n",
        "]"
      ]
    },
    {
      "cell_type": "code",
      "execution_count": 15,
      "metadata": {
        "id": "1gB2gkiTiW6T",
        "colab": {
          "base_uri": "https://localhost:8080/"
        },
        "outputId": "0b99829a-1fdf-47fb-81fa-749fb0cebc4d"
      },
      "outputs": [
        {
          "output_type": "stream",
          "name": "stdout",
          "text": [
            "Reloading Tuner from my_tuner_dir/kidney_cancer_tuning/tuner0.json\n"
          ]
        }
      ],
      "source": [
        "#Random Search - Hipermparametre Optimizasyonu\n",
        "tuner = RandomSearch(\n",
        "    build_model,\n",
        "    objective='val_accuracy',\n",
        "    directory='my_tuner_dir',\n",
        "    project_name='kidney_cancer_tuning'\n",
        ")"
      ]
    },
    {
      "cell_type": "code",
      "execution_count": 16,
      "metadata": {
        "id": "gqBFz84_j-iE"
      },
      "outputs": [],
      "source": [
        "tuner.search(x_train, train_yCl, validation_data=(x_val, valid_yCl),batch_size=32)"
      ]
    },
    {
      "cell_type": "code",
      "execution_count": 17,
      "metadata": {
        "id": "Igkfa8hKkMVd"
      },
      "outputs": [],
      "source": [
        "#En iyi değeri alma\n",
        "best_hps = tuner.get_best_hyperparameters(num_trials=1)[0]\n",
        "\n",
        "model = tuner.hypermodel.build(best_hps)"
      ]
    },
    {
      "cell_type": "code",
      "execution_count": 18,
      "metadata": {
        "colab": {
          "base_uri": "https://localhost:8080/"
        },
        "id": "g23Zc77IOh80",
        "outputId": "66e29b41-a4c7-4174-afb1-a79d142ea5c3"
      },
      "outputs": [
        {
          "output_type": "stream",
          "name": "stdout",
          "text": [
            "Epoch 1/50\n",
            "\n",
            "Epoch 1: val_accuracy improved from -inf to 0.93846, saving model to model.h5\n"
          ]
        },
        {
          "output_type": "stream",
          "name": "stderr",
          "text": [
            "/usr/local/lib/python3.10/dist-packages/keras/src/engine/training.py:3103: UserWarning: You are saving your model as an HDF5 file via `model.save()`. This file format is considered legacy. We recommend using instead the native Keras format, e.g. `model.save('my_model.keras')`.\n",
            "  saving_api.save_model(\n"
          ]
        },
        {
          "output_type": "stream",
          "name": "stdout",
          "text": [
            "Epoch 2/50\n",
            "\n",
            "Epoch 2: val_accuracy did not improve from 0.93846\n",
            "Epoch 3/50\n",
            "\n",
            "Epoch 3: val_accuracy did not improve from 0.93846\n",
            "Epoch 4/50\n",
            "\n",
            "Epoch 4: val_accuracy improved from 0.93846 to 0.99077, saving model to model.h5\n",
            "Epoch 5/50\n",
            "\n",
            "Epoch 5: val_accuracy improved from 0.99077 to 0.99692, saving model to model.h5\n",
            "Epoch 6/50\n",
            "\n",
            "Epoch 6: val_accuracy did not improve from 0.99692\n",
            "Epoch 7/50\n",
            "\n",
            "Epoch 7: val_accuracy did not improve from 0.99692\n",
            "Epoch 8/50\n",
            "\n",
            "Epoch 8: val_accuracy did not improve from 0.99692\n",
            "Epoch 8: early stopping\n"
          ]
        }
      ],
      "source": [
        "#Model Eğitimi\n",
        "history = model.fit(x_train,\n",
        "                    train_yCl,\n",
        "                    validation_data=(x_val, valid_yCl),\n",
        "                    batch_size=32,\n",
        "                    epochs=50,\n",
        "                    callbacks = callback_list,\n",
        "                    verbose=3)"
      ]
    },
    {
      "cell_type": "code",
      "execution_count": 19,
      "metadata": {
        "id": "ea61TmGCOlGM",
        "colab": {
          "base_uri": "https://localhost:8080/"
        },
        "outputId": "b5ff39e2-d86a-44ee-e8e6-f0aaaac159dd"
      },
      "outputs": [
        {
          "output_type": "stream",
          "name": "stdout",
          "text": [
            "21/21 [==============================] - 1s 32ms/step - loss: 0.0294 - accuracy: 0.9969\n",
            "Validation Accuracy:  0.9969230890274048\n",
            "110/110 [==============================] - 5s 42ms/step - loss: 0.0130 - accuracy: 0.9971\n",
            "Validation Accuracy:  0.9971428513526917\n",
            "183/183 [==============================] - 5s 29ms/step - loss: 0.0101 - accuracy: 0.9976\n",
            "Validation Accuracy:  0.9976068139076233\n"
          ]
        }
      ],
      "source": [
        "score_valid = model.evaluate(x_val, valid_yCl)\n",
        "print(\"Validation Accuracy: \", score_valid[1])\n",
        "\n",
        "score_test = model.evaluate(x_test, test_yCl)\n",
        "print(\"Validation Accuracy: \", score_test[1])\n",
        "\n",
        "score_train = model.evaluate(x_train, train_yCl)\n",
        "print(\"Validation Accuracy: \", score_train[1])"
      ]
    },
    {
      "cell_type": "code",
      "source": [
        "#Test verisinin Accuracy, Precision, Recall ve F1 skoru, Karmaşıklık Matrisi, Classification Report'u\n",
        "from sklearn.metrics import accuracy_score, precision_score, recall_score, f1_score, confusion_matrix, classification_report\n",
        "\n",
        "# Test verisi üzerinde tahmin yapma\n",
        "y_pred = model.predict(x_test)\n",
        "y_pred_classes = np.argmax(y_pred, axis=1)\n",
        "\n",
        "# One-hot encoding'i geri çevirme\n",
        "y_test_classes = np.argmax(test_yCl, axis=1)\n",
        "\n",
        "# Accuracy\n",
        "accuracy = accuracy_score(y_test_classes, y_pred_classes)\n",
        "print(\"Test Accuracy: {:.2f}%\".format(accuracy * 100))\n",
        "\n",
        "# Precision\n",
        "precision = precision_score(y_test_classes, y_pred_classes, average='weighted')\n",
        "print(\"Test Precision: {:.2f}\".format(precision))\n",
        "\n",
        "# Recall\n",
        "recall = recall_score(y_test_classes, y_pred_classes, average='weighted')\n",
        "print(\"Test Recall: {:.2f}\".format(recall))\n",
        "\n",
        "# F1 Score\n",
        "f1 = f1_score(y_test_classes, y_pred_classes, average='weighted')\n",
        "print(\"Test F1 Score: {:.2f}\".format(f1))\n",
        "\n",
        "# Karmaşıklık Matrisi\n",
        "conf_matrix = confusion_matrix(y_test_classes, y_pred_classes)\n",
        "print(\"Confusion Matrix:\\n\", conf_matrix)\n",
        "\n",
        "# Classification Report\n",
        "class_report = classification_report(y_test_classes, y_pred_classes)\n",
        "print(\"Classification Report:\\n\", class_report)\n",
        "\n"
      ],
      "metadata": {
        "id": "S42vrqZSgSdv",
        "colab": {
          "base_uri": "https://localhost:8080/"
        },
        "outputId": "658848ee-5975-415c-d0e7-bc5dc3341c89"
      },
      "execution_count": 20,
      "outputs": [
        {
          "output_type": "stream",
          "name": "stdout",
          "text": [
            "110/110 [==============================] - 3s 26ms/step\n",
            "Test Accuracy: 99.71%\n",
            "Test Precision: 1.00\n",
            "Test Recall: 1.00\n",
            "Test F1 Score: 1.00\n",
            "Confusion Matrix:\n",
            " [[1776   10]\n",
            " [   0 1714]]\n",
            "Classification Report:\n",
            "               precision    recall  f1-score   support\n",
            "\n",
            "           0       1.00      0.99      1.00      1786\n",
            "           1       0.99      1.00      1.00      1714\n",
            "\n",
            "    accuracy                           1.00      3500\n",
            "   macro avg       1.00      1.00      1.00      3500\n",
            "weighted avg       1.00      1.00      1.00      3500\n",
            "\n"
          ]
        }
      ]
    }
  ],
  "metadata": {
    "accelerator": "GPU",
    "colab": {
      "provenance": [],
      "gpuType": "T4"
    },
    "kernelspec": {
      "display_name": "Python 3",
      "name": "python3"
    },
    "language_info": {
      "name": "python"
    }
  },
  "nbformat": 4,
  "nbformat_minor": 0
}