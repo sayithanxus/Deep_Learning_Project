{
  "nbformat": 4,
  "nbformat_minor": 0,
  "metadata": {
    "colab": {
      "provenance": []
    },
    "kernelspec": {
      "name": "python3",
      "display_name": "Python 3"
    },
    "language_info": {
      "name": "python"
    }
  },
  "cells": [
    {
      "cell_type": "markdown",
      "source": [
        "#2.TRANSFER LEARNING ALGORİTMALARI KULLANARAK SINIFLANDIRMA YAPMA TRAIN, TEST VE VALIDATION DOĞRULUK ORANLARINI ve TEST VERİSİNİN ACCURACY,PRECISION,RECALL VE F1 SCORE,KARMAŞIKLIK MATRİSİ,CLASSIFICATİON REPORTUNU GÖSTERME"
      ],
      "metadata": {
        "id": "xTOjJD4ix3Qr"
      }
    },
    {
      "cell_type": "code",
      "execution_count": 1,
      "metadata": {
        "id": "Xb4V-sn5c7vE",
        "colab": {
          "base_uri": "https://localhost:8080/"
        },
        "outputId": "3bc5a8ac-20fb-4c28-f26e-5eb5da6d0c99"
      },
      "outputs": [
        {
          "output_type": "stream",
          "name": "stdout",
          "text": [
            "Mounted at /gdrive\n"
          ]
        }
      ],
      "source": [
        "from google.colab import drive\n",
        "drive.mount('/gdrive')"
      ]
    },
    {
      "cell_type": "code",
      "source": [
        "import numpy as np\n",
        "import pandas as pd\n",
        "import matplotlib.pyplot as plt\n",
        "import seaborn as sns\n",
        "import cv2\n",
        "import os\n",
        "from sklearn.model_selection import train_test_split\n",
        "from keras.layers import Input, Dense, Activation, BatchNormalization, Flatten, Conv2D, MaxPooling2D, Dropout\n",
        "from keras.models import Sequential\n",
        "import tensorflow as tf\n",
        "from tensorflow import keras\n",
        "from keras.applications import VGG16\n",
        "from keras.models import Model\n",
        "from keras.layers import Dense, Flatten\n",
        "from keras.optimizers import Adam\n",
        "from sklearn.metrics import accuracy_score"
      ],
      "metadata": {
        "id": "3VI_cdR0gPUF"
      },
      "execution_count": 2,
      "outputs": []
    },
    {
      "cell_type": "code",
      "source": [
        "print(os.listdir(\"/gdrive/MyDrive/Kidney_Cancer/Kidney Cancer\"))\n",
        "\n",
        "DATADIR = '/gdrive/MyDrive/Kidney_Cancer/Kidney Cancer'"
      ],
      "metadata": {
        "colab": {
          "base_uri": "https://localhost:8080/"
        },
        "id": "0zfMKOpYggKv",
        "outputId": "668153fc-6274-4e9d-b057-f299e1c13cd7"
      },
      "execution_count": 3,
      "outputs": [
        {
          "output_type": "stream",
          "name": "stdout",
          "text": [
            "['Tumor', 'Normal']\n"
          ]
        }
      ]
    },
    {
      "cell_type": "code",
      "source": [
        "CATEGORIES = [\"Tumor\", \"Normal\"]\n",
        "IMG_SIZE = 100"
      ],
      "metadata": {
        "id": "_DZV4AUEicpQ"
      },
      "execution_count": 4,
      "outputs": []
    },
    {
      "cell_type": "code",
      "source": [
        "from keras.applications.vgg16 import preprocess_input\n",
        "all_data_transfer = []\n",
        "def create_all_data_transfer():\n",
        "    for category in CATEGORIES:\n",
        "        path = os.path.join(DATADIR, category)\n",
        "        class_num = CATEGORIES.index(category)\n",
        "        for img in os.listdir(path):\n",
        "            try:\n",
        "                img_array = cv2.imread(os.path.join(path, img))\n",
        "                new_array = cv2.resize(img_array, (IMG_SIZE, IMG_SIZE))\n",
        "                # Görüntüyü ön işle\n",
        "                new_array = preprocess_input(new_array)\n",
        "                all_data_transfer.append([new_array, class_num])\n",
        "            except Exception as e:\n",
        "                pass\n",
        "create_all_data_transfer()"
      ],
      "metadata": {
        "id": "t9ZOrnstif1q"
      },
      "execution_count": 5,
      "outputs": []
    },
    {
      "cell_type": "code",
      "source": [
        "print(\"Toplam Görüntü Sayısı: \", len(all_data_transfer))\n"
      ],
      "metadata": {
        "colab": {
          "base_uri": "https://localhost:8080/"
        },
        "id": "RZQKvD8CipSg",
        "outputId": "6d5494ac-c862-436c-cbe9-1ff296d85556"
      },
      "execution_count": 6,
      "outputs": [
        {
          "output_type": "stream",
          "name": "stdout",
          "text": [
            "Toplam Görüntü Sayısı:  10000\n"
          ]
        }
      ]
    },
    {
      "cell_type": "code",
      "source": [
        "X_transfer = []\n",
        "y_transfer = []\n",
        "\n",
        "for categories, label in all_data_transfer:\n",
        "  X_transfer.append(categories)\n",
        "  y_transfer.append(label)\n"
      ],
      "metadata": {
        "id": "5NjrE3fLivhi"
      },
      "execution_count": 7,
      "outputs": []
    },
    {
      "cell_type": "code",
      "source": [
        "x_train_transfer, x_test_transfer, y_train_transfer, y_test_transfer = train_test_split(X_transfer, y_transfer, test_size=0.35, random_state=42)\n",
        "\n",
        "x_train_transfer, x_val_transfer, y_train_transfer, y_val_transfer = train_test_split(x_train_transfer, y_train_transfer, test_size=0.10, random_state=42)"
      ],
      "metadata": {
        "id": "bk3MRCngkWKV"
      },
      "execution_count": 8,
      "outputs": []
    },
    {
      "cell_type": "code",
      "source": [
        "x_train_transfer = np.array(x_train_transfer)\n",
        "x_test_transfer = np.array(x_test_transfer)\n",
        "\n",
        "y_train_transfer = np.array(y_train_transfer)\n",
        "y_test_transfer = np.array(y_test_transfer)\n",
        "\n",
        "x_val_transfer = np.array(x_val_transfer)\n",
        "y_val_transfer = np.array(y_val_transfer)"
      ],
      "metadata": {
        "id": "AFC_Lv-0kccl"
      },
      "execution_count": 9,
      "outputs": []
    },
    {
      "cell_type": "code",
      "source": [
        "print(x_train_transfer.shape)\n",
        "print(x_test_transfer.shape)\n",
        "print(x_val_transfer.shape)\n",
        "\n",
        "print(y_train_transfer.shape)\n",
        "print(y_test_transfer.shape)\n",
        "print(y_val_transfer.shape)"
      ],
      "metadata": {
        "colab": {
          "base_uri": "https://localhost:8080/"
        },
        "id": "h0LS70rhkdWe",
        "outputId": "a914e72a-0f0e-4317-f65a-0ce68edb25ac"
      },
      "execution_count": 10,
      "outputs": [
        {
          "output_type": "stream",
          "name": "stdout",
          "text": [
            "(5850, 100, 100, 3)\n",
            "(3500, 100, 100, 3)\n",
            "(650, 100, 100, 3)\n",
            "(5850,)\n",
            "(3500,)\n",
            "(650,)\n"
          ]
        }
      ]
    },
    {
      "cell_type": "code",
      "source": [
        "traitrain_yCl_transfer = tf.keras.utils.to_categorical(y_train_transfer, num_classes=2)\n",
        "test_yCl_transfer = tf.keras.utils.to_categorical(y_test_transfer, num_classes=2)\n",
        "valid_yCl_transfer = tf.keras.utils.to_categorical(y_val_transfer, num_classes=2)"
      ],
      "metadata": {
        "id": "kZUB0VGJklka"
      },
      "execution_count": 11,
      "outputs": []
    },
    {
      "cell_type": "code",
      "source": [
        "# VGG16 modelini yükleyip, fully-connected katmanlarını çıkartma\n",
        "base_model_transfer = VGG16(weights='imagenet', include_top=False, input_shape=(IMG_SIZE, IMG_SIZE, 3))"
      ],
      "metadata": {
        "id": "bXowproDktRK",
        "colab": {
          "base_uri": "https://localhost:8080/"
        },
        "outputId": "eeb02b3f-deb0-4688-8462-c48ac94ad97f"
      },
      "execution_count": 12,
      "outputs": [
        {
          "output_type": "stream",
          "name": "stdout",
          "text": [
            "Downloading data from https://storage.googleapis.com/tensorflow/keras-applications/vgg16/vgg16_weights_tf_dim_ordering_tf_kernels_notop.h5\n",
            "58889256/58889256 [==============================] - 0s 0us/step\n"
          ]
        }
      ]
    },
    {
      "cell_type": "code",
      "source": [
        "# Fully-connected katmanlarını ekleyerek transfer learning modelini oluşturma\n",
        "x_transfer = Flatten()(base_model_transfer.output)\n",
        "x_transfer = Dense(1024, activation='relu')(x_transfer)\n",
        "x_transfer = Dropout(0.4)(x_transfer)\n",
        "x_transfer = Dense(1024, activation='relu')(x_transfer)\n",
        "predictions_transfer = Dense(2, activation='softmax')(x_transfer)\n",
        "\n",
        "model_transfer_learning = Model(inputs=base_model_transfer.input, outputs=predictions_transfer)"
      ],
      "metadata": {
        "id": "be5an9vmk4YC"
      },
      "execution_count": 13,
      "outputs": []
    },
    {
      "cell_type": "code",
      "source": [
        "# Önceden eğitilmiş ağırlıkları dondurma\n",
        "for layer in base_model_transfer.layers:\n",
        "    layer.trainable = False\n"
      ],
      "metadata": {
        "id": "7l7ryRdhlLSe"
      },
      "execution_count": 14,
      "outputs": []
    },
    {
      "cell_type": "code",
      "source": [
        "# Modeli derleme\n",
        "model_transfer_learning.compile(optimizer=Adam(lr=0.0001), loss='categorical_crossentropy', metrics=['accuracy'])"
      ],
      "metadata": {
        "colab": {
          "base_uri": "https://localhost:8080/"
        },
        "id": "qPQHllz3lO2f",
        "outputId": "f3b45d35-c0e8-4d0e-9d86-1ae352a5d530"
      },
      "execution_count": 15,
      "outputs": [
        {
          "output_type": "stream",
          "name": "stderr",
          "text": [
            "WARNING:absl:`lr` is deprecated in Keras optimizer, please use `learning_rate` or use the legacy optimizer, e.g.,tf.keras.optimizers.legacy.Adam.\n"
          ]
        }
      ]
    },
    {
      "cell_type": "code",
      "source": [
        "#Modeli eğitme\n",
        "history_transfer_learning = model_transfer_learning.fit(x_train_transfer, traitrain_yCl_transfer,\n",
        "                                                        batch_size=64,\n",
        "                                                        validation_data=(x_val_transfer, valid_yCl_transfer),\n",
        "                                                        epochs=30)\n"
      ],
      "metadata": {
        "id": "Um4idlTZlYO3",
        "colab": {
          "base_uri": "https://localhost:8080/"
        },
        "outputId": "e7eae0c9-eb4f-4d17-ebe9-6c1071aba748"
      },
      "execution_count": 16,
      "outputs": [
        {
          "output_type": "stream",
          "name": "stdout",
          "text": [
            "Epoch 1/30\n",
            "92/92 [==============================] - 826s 9s/step - loss: 1.7790 - accuracy: 0.9241 - val_loss: 0.5626 - val_accuracy: 0.9677\n",
            "Epoch 2/30\n",
            "92/92 [==============================] - 809s 9s/step - loss: 0.2730 - accuracy: 0.9803 - val_loss: 0.1659 - val_accuracy: 0.9815\n",
            "Epoch 3/30\n",
            "92/92 [==============================] - 810s 9s/step - loss: 0.1463 - accuracy: 0.9874 - val_loss: 0.0606 - val_accuracy: 0.9923\n",
            "Epoch 4/30\n",
            "92/92 [==============================] - 870s 9s/step - loss: 0.0692 - accuracy: 0.9921 - val_loss: 0.1715 - val_accuracy: 0.9923\n",
            "Epoch 5/30\n",
            "92/92 [==============================] - 812s 9s/step - loss: 0.0693 - accuracy: 0.9915 - val_loss: 0.1799 - val_accuracy: 0.9908\n",
            "Epoch 6/30\n",
            "92/92 [==============================] - 809s 9s/step - loss: 0.1291 - accuracy: 0.9921 - val_loss: 7.0725e-04 - val_accuracy: 1.0000\n",
            "Epoch 7/30\n",
            "92/92 [==============================] - 809s 9s/step - loss: 0.0487 - accuracy: 0.9945 - val_loss: 4.6158e-04 - val_accuracy: 1.0000\n",
            "Epoch 8/30\n",
            "92/92 [==============================] - 807s 9s/step - loss: 0.0382 - accuracy: 0.9961 - val_loss: 0.0594 - val_accuracy: 0.9969\n",
            "Epoch 9/30\n",
            "92/92 [==============================] - 804s 9s/step - loss: 0.0772 - accuracy: 0.9911 - val_loss: 0.2790 - val_accuracy: 0.9769\n",
            "Epoch 10/30\n",
            "92/92 [==============================] - 810s 9s/step - loss: 0.1045 - accuracy: 0.9897 - val_loss: 0.0630 - val_accuracy: 0.9969\n",
            "Epoch 11/30\n",
            "92/92 [==============================] - 806s 9s/step - loss: 0.0200 - accuracy: 0.9973 - val_loss: 0.0057 - val_accuracy: 0.9954\n",
            "Epoch 12/30\n",
            "92/92 [==============================] - 810s 9s/step - loss: 0.0050 - accuracy: 0.9985 - val_loss: 0.0401 - val_accuracy: 0.9985\n",
            "Epoch 13/30\n",
            "92/92 [==============================] - 808s 9s/step - loss: 0.0151 - accuracy: 0.9993 - val_loss: 0.0226 - val_accuracy: 0.9985\n",
            "Epoch 14/30\n",
            "92/92 [==============================] - 809s 9s/step - loss: 3.7396e-05 - accuracy: 1.0000 - val_loss: 0.0222 - val_accuracy: 0.9985\n",
            "Epoch 15/30\n",
            "92/92 [==============================] - 809s 9s/step - loss: 0.0094 - accuracy: 0.9990 - val_loss: 0.1049 - val_accuracy: 0.9969\n",
            "Epoch 16/30\n",
            "92/92 [==============================] - 810s 9s/step - loss: 0.0059 - accuracy: 0.9993 - val_loss: 0.0470 - val_accuracy: 0.9969\n",
            "Epoch 17/30\n",
            "92/92 [==============================] - 817s 9s/step - loss: 0.0298 - accuracy: 0.9964 - val_loss: 0.0328 - val_accuracy: 0.9969\n",
            "Epoch 18/30\n",
            "92/92 [==============================] - 815s 9s/step - loss: 0.0354 - accuracy: 0.9954 - val_loss: 0.0203 - val_accuracy: 0.9954\n",
            "Epoch 19/30\n",
            "92/92 [==============================] - 809s 9s/step - loss: 0.0475 - accuracy: 0.9932 - val_loss: 0.0272 - val_accuracy: 0.9923\n",
            "Epoch 20/30\n",
            "92/92 [==============================] - 810s 9s/step - loss: 0.0979 - accuracy: 0.9894 - val_loss: 0.0172 - val_accuracy: 0.9969\n",
            "Epoch 21/30\n",
            "92/92 [==============================] - 810s 9s/step - loss: 0.0399 - accuracy: 0.9966 - val_loss: 0.0411 - val_accuracy: 0.9969\n",
            "Epoch 22/30\n",
            "92/92 [==============================] - 808s 9s/step - loss: 0.0161 - accuracy: 0.9974 - val_loss: 0.0421 - val_accuracy: 0.9954\n",
            "Epoch 23/30\n",
            "92/92 [==============================] - 806s 9s/step - loss: 0.0028 - accuracy: 0.9995 - val_loss: 0.0735 - val_accuracy: 0.9969\n",
            "Epoch 24/30\n",
            "92/92 [==============================] - 805s 9s/step - loss: 0.0070 - accuracy: 0.9979 - val_loss: 0.0767 - val_accuracy: 0.9938\n",
            "Epoch 25/30\n",
            "92/92 [==============================] - 803s 9s/step - loss: 0.0072 - accuracy: 0.9995 - val_loss: 0.1705 - val_accuracy: 0.9954\n",
            "Epoch 26/30\n",
            "92/92 [==============================] - 804s 9s/step - loss: 0.0141 - accuracy: 0.9985 - val_loss: 0.0546 - val_accuracy: 0.9969\n",
            "Epoch 27/30\n",
            "92/92 [==============================] - 803s 9s/step - loss: 0.0067 - accuracy: 0.9991 - val_loss: 0.0861 - val_accuracy: 0.9954\n",
            "Epoch 28/30\n",
            "92/92 [==============================] - 797s 9s/step - loss: 0.0127 - accuracy: 0.9991 - val_loss: 0.1955 - val_accuracy: 0.9938\n",
            "Epoch 29/30\n",
            "92/92 [==============================] - 801s 9s/step - loss: 0.0994 - accuracy: 0.9962 - val_loss: 0.0617 - val_accuracy: 0.9969\n",
            "Epoch 30/30\n",
            "92/92 [==============================] - 798s 9s/step - loss: 0.0084 - accuracy: 0.9995 - val_loss: 0.0343 - val_accuracy: 0.9969\n"
          ]
        }
      ]
    },
    {
      "cell_type": "code",
      "source": [
        "# Validation veri seti için preprocess_input işlemi\n",
        "x_val_transfer_preprocessed = preprocess_input(x_val_transfer)\n",
        "# Test veri seti için preprocess_input işlemi\n",
        "x_test_transfer_preprocessed = preprocess_input(x_test_transfer)"
      ],
      "metadata": {
        "id": "wlJU2-xv4JUq"
      },
      "execution_count": 17,
      "outputs": []
    },
    {
      "cell_type": "code",
      "source": [
        "# Test verisinde performansı değerlendirme\n",
        "y_pred_transfer = model_transfer_learning.predict(x_test_transfer_preprocessed)\n",
        "y_pred_classes_transfer = np.argmax(y_pred_transfer, axis=1)\n",
        "y_test_classes_transfer = np.argmax(test_yCl_transfer, axis=1)"
      ],
      "metadata": {
        "id": "oKR2_RjAlcye",
        "colab": {
          "base_uri": "https://localhost:8080/"
        },
        "outputId": "3e9cf81b-167e-4c6f-90d8-b5b07b73a3da"
      },
      "execution_count": 18,
      "outputs": [
        {
          "output_type": "stream",
          "name": "stdout",
          "text": [
            "110/110 [==============================] - 428s 4s/step\n"
          ]
        }
      ]
    },
    {
      "cell_type": "code",
      "source": [
        "# Transfer Learning modelini değerlendirme\n",
        "score_transfer_learning_val = model_transfer_learning.evaluate(x_val_transfer_preprocessed, valid_yCl_transfer)\n",
        "print(\"Validation Accuracy (Transfer Learning): \", score_transfer_learning_val[1])\n",
        "\n",
        "score_transfer_learning_test = model_transfer_learning.evaluate(x_test_transfer_preprocessed, test_yCl_transfer)\n",
        "print(\"Test Accuracy (Transfer Learning): \", score_transfer_learning_test[1])\n",
        "\n",
        "score_transfer_learning_train = model_transfer_learning.evaluate(x_train_transfer, traitrain_yCl_transfer)\n",
        "print(\"Train Accuracy (Transfer Learning): \", score_transfer_learning_train[1])\n"
      ],
      "metadata": {
        "id": "rNf1nK-rlvFP",
        "colab": {
          "base_uri": "https://localhost:8080/"
        },
        "outputId": "52d75155-e042-4662-9a0e-0a8e08956608"
      },
      "execution_count": 19,
      "outputs": [
        {
          "output_type": "stream",
          "name": "stdout",
          "text": [
            "21/21 [==============================] - 79s 4s/step - loss: 0.2790 - accuracy: 0.9769\n",
            "Validation Accuracy (Transfer Learning):  0.9769230484962463\n",
            "110/110 [==============================] - 425s 4s/step - loss: 0.2241 - accuracy: 0.9843\n",
            "Test Accuracy (Transfer Learning):  0.9842857122421265\n",
            "183/183 [==============================] - 712s 4s/step - loss: 0.0011 - accuracy: 0.9998\n",
            "Train Accuracy (Transfer Learning):  0.9998290538787842\n"
          ]
        }
      ]
    },
    {
      "cell_type": "code",
      "source": [
        "# Test verisinin Accuracy, Precision, Recall ve F1 skoru, Karmaşıklık Matrisi, Classification Report'u\n",
        "from sklearn.metrics import accuracy_score, precision_score, recall_score, f1_score, confusion_matrix, classification_report\n",
        "\n",
        "# Test verisi üzerinde tahmin yapma\n",
        "y_pred_transfer_learning = model_transfer_learning.predict(x_test_transfer_preprocessed)\n",
        "y_pred_classes_transfer_learning = np.argmax(y_pred_transfer_learning, axis=1)\n",
        "\n",
        "# One-hot encoding'i geri çevirme\n",
        "y_test_classes_transfer_learning = np.argmax(test_yCl_transfer, axis=1)\n",
        "\n",
        "# Accuracy\n",
        "accuracy_transfer_learning = accuracy_score(y_test_classes_transfer_learning, y_pred_classes_transfer_learning)\n",
        "print(\"Transfer Learning Test Accuracy: {:.2f}%\".format(accuracy_transfer_learning * 100))\n",
        "\n",
        "# Precision\n",
        "precision_transfer_learning = precision_score(y_test_classes_transfer_learning, y_pred_classes_transfer_learning, average='weighted')\n",
        "print(\"Transfer Learning Test Precision: {:.2f}\".format(precision_transfer_learning))\n",
        "\n",
        "# Recall\n",
        "recall_transfer_learning = recall_score(y_test_classes_transfer_learning, y_pred_classes_transfer_learning, average='weighted')\n",
        "print(\"Transfer Learning Test Recall: {:.2f}\".format(recall_transfer_learning))\n",
        "\n",
        "# F1 Score\n",
        "f1_transfer_learning = f1_score(y_test_classes_transfer_learning, y_pred_classes_transfer_learning, average='weighted')\n",
        "print(\"Transfer Learning Test F1 Score: {:.2f}\".format(f1_transfer_learning))\n",
        "\n",
        "# Karmaşıklık Matrisi\n",
        "conf_matrix_transfer_learning = confusion_matrix(y_test_classes_transfer_learning, y_pred_classes_transfer_learning)\n",
        "print(\"Transfer Learning Confusion Matrix:\\n\", conf_matrix_transfer_learning)\n",
        "\n",
        "# Classification Report\n",
        "class_report_transfer_learning = classification_report(y_test_classes_transfer_learning, y_pred_classes_transfer_learning)\n",
        "print(\"Transfer Learning Classification Report:\\n\", class_report_transfer_learning)"
      ],
      "metadata": {
        "id": "lKV_tn6S4d-_",
        "colab": {
          "base_uri": "https://localhost:8080/"
        },
        "outputId": "c994fd95-3ed9-4be3-e64d-ef81ada42430"
      },
      "execution_count": 20,
      "outputs": [
        {
          "output_type": "stream",
          "name": "stdout",
          "text": [
            "110/110 [==============================] - 430s 4s/step\n",
            "Transfer Learning Test Accuracy: 98.43%\n",
            "Transfer Learning Test Precision: 0.98\n",
            "Transfer Learning Test Recall: 0.98\n",
            "Transfer Learning Test F1 Score: 0.98\n",
            "Transfer Learning Confusion Matrix:\n",
            " [[1778    8]\n",
            " [  47 1667]]\n",
            "Transfer Learning Classification Report:\n",
            "               precision    recall  f1-score   support\n",
            "\n",
            "           0       0.97      1.00      0.98      1786\n",
            "           1       1.00      0.97      0.98      1714\n",
            "\n",
            "    accuracy                           0.98      3500\n",
            "   macro avg       0.98      0.98      0.98      3500\n",
            "weighted avg       0.98      0.98      0.98      3500\n",
            "\n"
          ]
        }
      ]
    }
  ]
}