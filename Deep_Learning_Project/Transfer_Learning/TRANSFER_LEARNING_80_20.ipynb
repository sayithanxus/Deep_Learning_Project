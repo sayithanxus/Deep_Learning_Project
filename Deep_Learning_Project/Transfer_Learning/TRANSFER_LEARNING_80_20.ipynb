{
  "nbformat": 4,
  "nbformat_minor": 0,
  "metadata": {
    "colab": {
      "provenance": []
    },
    "kernelspec": {
      "name": "python3",
      "display_name": "Python 3"
    },
    "language_info": {
      "name": "python"
    }
  },
  "cells": [
    {
      "cell_type": "markdown",
      "source": [
        "#2.TRANSFER LEARNING ALGORİTMALARI KULLANARAK SINIFLANDIRMA YAPMA TRAIN, TEST VE VALIDATION DOĞRULUK ORANLARINI ve TEST VERİSİNİN ACCURACY,PRECISION,RECALL VE F1 SCORE,KARMAŞIKLIK MATRİSİ,CLASSIFICATİON REPORTUNU GÖSTERME"
      ],
      "metadata": {
        "id": "xTOjJD4ix3Qr"
      }
    },
    {
      "cell_type": "code",
      "execution_count": 1,
      "metadata": {
        "colab": {
          "base_uri": "https://localhost:8080/"
        },
        "id": "Xb4V-sn5c7vE",
        "outputId": "768cd70e-decd-4ac0-9548-2012e312c6f3"
      },
      "outputs": [
        {
          "output_type": "stream",
          "name": "stdout",
          "text": [
            "Mounted at /gdrive\n"
          ]
        }
      ],
      "source": [
        "from google.colab import drive\n",
        "drive.mount('/gdrive')"
      ]
    },
    {
      "cell_type": "code",
      "source": [
        "import numpy as np\n",
        "import pandas as pd\n",
        "import matplotlib.pyplot as plt\n",
        "import seaborn as sns\n",
        "import cv2\n",
        "import os\n",
        "from sklearn.model_selection import train_test_split\n",
        "from keras.layers import Input, Dense, Activation, BatchNormalization, Flatten, Conv2D, MaxPooling2D, Dropout\n",
        "from keras.models import Sequential\n",
        "import tensorflow as tf\n",
        "from tensorflow import keras\n",
        "from keras.applications import VGG16\n",
        "from keras.models import Model\n",
        "from keras.layers import Dense, Flatten\n",
        "from keras.optimizers import Adam\n",
        "from sklearn.metrics import accuracy_score"
      ],
      "metadata": {
        "id": "3VI_cdR0gPUF"
      },
      "execution_count": 2,
      "outputs": []
    },
    {
      "cell_type": "code",
      "source": [
        "print(os.listdir(\"/gdrive/MyDrive/Kidney_Cancer/Kidney Cancer\"))\n",
        "\n",
        "DATADIR = '/gdrive/MyDrive/Kidney_Cancer/Kidney Cancer'"
      ],
      "metadata": {
        "colab": {
          "base_uri": "https://localhost:8080/"
        },
        "id": "0zfMKOpYggKv",
        "outputId": "46bf7e50-33f9-473b-a389-d3d9a72155ce"
      },
      "execution_count": 3,
      "outputs": [
        {
          "output_type": "stream",
          "name": "stdout",
          "text": [
            "['Normal', 'Tumor']\n"
          ]
        }
      ]
    },
    {
      "cell_type": "code",
      "source": [
        "CATEGORIES = [\"Tumor\", \"Normal\"]\n",
        "IMG_SIZE = 100"
      ],
      "metadata": {
        "id": "_DZV4AUEicpQ"
      },
      "execution_count": 4,
      "outputs": []
    },
    {
      "cell_type": "code",
      "source": [
        "from keras.applications.vgg16 import preprocess_input\n",
        "all_data_transfer = []\n",
        "def create_all_data_transfer():\n",
        "    for category in CATEGORIES:\n",
        "        path = os.path.join(DATADIR, category)\n",
        "        class_num = CATEGORIES.index(category)\n",
        "        for img in os.listdir(path):\n",
        "            try:\n",
        "                img_array = cv2.imread(os.path.join(path, img))\n",
        "                new_array = cv2.resize(img_array, (IMG_SIZE, IMG_SIZE))\n",
        "                # Görüntüyü ön işle\n",
        "                new_array = preprocess_input(new_array)\n",
        "                all_data_transfer.append([new_array, class_num])\n",
        "            except Exception as e:\n",
        "                pass\n",
        "create_all_data_transfer()"
      ],
      "metadata": {
        "id": "t9ZOrnstif1q"
      },
      "execution_count": 5,
      "outputs": []
    },
    {
      "cell_type": "code",
      "source": [
        "print(\"Toplam Görüntü Sayısı: \", len(all_data_transfer))\n"
      ],
      "metadata": {
        "colab": {
          "base_uri": "https://localhost:8080/"
        },
        "id": "RZQKvD8CipSg",
        "outputId": "add5d095-b875-498a-fe77-cfa00b950973"
      },
      "execution_count": 6,
      "outputs": [
        {
          "output_type": "stream",
          "name": "stdout",
          "text": [
            "Toplam Görüntü Sayısı:  10000\n"
          ]
        }
      ]
    },
    {
      "cell_type": "code",
      "source": [
        "X_transfer = []\n",
        "y_transfer = []\n",
        "\n",
        "for categories, label in all_data_transfer:\n",
        "  X_transfer.append(categories)\n",
        "  y_transfer.append(label)\n"
      ],
      "metadata": {
        "id": "5NjrE3fLivhi"
      },
      "execution_count": 7,
      "outputs": []
    },
    {
      "cell_type": "code",
      "source": [
        "x_train_transfer, x_test_transfer, y_train_transfer, y_test_transfer = train_test_split(X_transfer, y_transfer, test_size=0.20, random_state=42)\n",
        "\n",
        "x_train_transfer, x_val_transfer, y_train_transfer, y_val_transfer = train_test_split(x_train_transfer, y_train_transfer, test_size=0.10, random_state=42)"
      ],
      "metadata": {
        "id": "bk3MRCngkWKV"
      },
      "execution_count": 8,
      "outputs": []
    },
    {
      "cell_type": "code",
      "source": [
        "x_train_transfer = np.array(x_train_transfer)\n",
        "x_test_transfer = np.array(x_test_transfer)\n",
        "\n",
        "y_train_transfer = np.array(y_train_transfer)\n",
        "y_test_transfer = np.array(y_test_transfer)\n",
        "\n",
        "x_val_transfer = np.array(x_val_transfer)\n",
        "y_val_transfer = np.array(y_val_transfer)"
      ],
      "metadata": {
        "id": "AFC_Lv-0kccl"
      },
      "execution_count": 9,
      "outputs": []
    },
    {
      "cell_type": "code",
      "source": [
        "print(x_train_transfer.shape)\n",
        "print(x_test_transfer.shape)\n",
        "print(x_val_transfer.shape)\n",
        "\n",
        "print(y_train_transfer.shape)\n",
        "print(y_test_transfer.shape)\n",
        "print(y_val_transfer.shape)"
      ],
      "metadata": {
        "colab": {
          "base_uri": "https://localhost:8080/"
        },
        "id": "h0LS70rhkdWe",
        "outputId": "c9c1cd6c-e08b-4802-d5c0-bbf4f0f2815d"
      },
      "execution_count": 10,
      "outputs": [
        {
          "output_type": "stream",
          "name": "stdout",
          "text": [
            "(7200, 100, 100, 3)\n",
            "(2000, 100, 100, 3)\n",
            "(800, 100, 100, 3)\n",
            "(7200,)\n",
            "(2000,)\n",
            "(800,)\n"
          ]
        }
      ]
    },
    {
      "cell_type": "code",
      "source": [
        "traitrain_yCl_transfer = tf.keras.utils.to_categorical(y_train_transfer, num_classes=2)\n",
        "test_yCl_transfer = tf.keras.utils.to_categorical(y_test_transfer, num_classes=2)\n",
        "valid_yCl_transfer = tf.keras.utils.to_categorical(y_val_transfer, num_classes=2)"
      ],
      "metadata": {
        "id": "kZUB0VGJklka"
      },
      "execution_count": 11,
      "outputs": []
    },
    {
      "cell_type": "code",
      "source": [
        "# VGG16 modelini yükleyip, fully-connected katmanlarını çıkartma\n",
        "base_model_transfer = VGG16(weights='imagenet', include_top=False, input_shape=(IMG_SIZE, IMG_SIZE, 3))"
      ],
      "metadata": {
        "id": "bXowproDktRK",
        "colab": {
          "base_uri": "https://localhost:8080/"
        },
        "outputId": "946598de-5081-4de2-a2ba-f208ecab80c1"
      },
      "execution_count": 12,
      "outputs": [
        {
          "output_type": "stream",
          "name": "stdout",
          "text": [
            "Downloading data from https://storage.googleapis.com/tensorflow/keras-applications/vgg16/vgg16_weights_tf_dim_ordering_tf_kernels_notop.h5\n",
            "58889256/58889256 [==============================] - 0s 0us/step\n"
          ]
        }
      ]
    },
    {
      "cell_type": "code",
      "source": [
        "# Fully-connected katmanlarını ekleyerek transfer learning modelini oluşturma\n",
        "x_transfer = Flatten()(base_model_transfer.output)\n",
        "x_transfer = Dense(1024, activation='relu')(x_transfer)\n",
        "x_transfer = Dropout(0.4)(x_transfer)\n",
        "x_transfer = Dense(1024, activation='relu')(x_transfer)\n",
        "predictions_transfer = Dense(2, activation='softmax')(x_transfer)\n",
        "\n",
        "model_transfer_learning = Model(inputs=base_model_transfer.input, outputs=predictions_transfer)"
      ],
      "metadata": {
        "id": "be5an9vmk4YC"
      },
      "execution_count": 13,
      "outputs": []
    },
    {
      "cell_type": "code",
      "source": [
        "# Önceden eğitilmiş ağırlıkları dondurma\n",
        "for layer in base_model_transfer.layers:\n",
        "    layer.trainable = False\n"
      ],
      "metadata": {
        "id": "7l7ryRdhlLSe"
      },
      "execution_count": 14,
      "outputs": []
    },
    {
      "cell_type": "code",
      "source": [
        "# Modeli derleme\n",
        "model_transfer_learning.compile(optimizer=Adam(lr=0.0001), loss='categorical_crossentropy', metrics=['accuracy'])"
      ],
      "metadata": {
        "colab": {
          "base_uri": "https://localhost:8080/"
        },
        "id": "qPQHllz3lO2f",
        "outputId": "76137bbc-8d4d-429f-a53b-69ca08c89397"
      },
      "execution_count": 15,
      "outputs": [
        {
          "output_type": "stream",
          "name": "stderr",
          "text": [
            "WARNING:absl:`lr` is deprecated in Keras optimizer, please use `learning_rate` or use the legacy optimizer, e.g.,tf.keras.optimizers.legacy.Adam.\n"
          ]
        }
      ]
    },
    {
      "cell_type": "code",
      "source": [
        "#Modeli eğitme\n",
        "history_transfer_learning = model_transfer_learning.fit(x_train_transfer, traitrain_yCl_transfer,\n",
        "                                                        batch_size=64,\n",
        "                                                        validation_data=(x_val_transfer, valid_yCl_transfer),\n",
        "                                                        epochs=30)\n"
      ],
      "metadata": {
        "id": "Um4idlTZlYO3",
        "colab": {
          "base_uri": "https://localhost:8080/"
        },
        "outputId": "4269408c-e20a-4034-ee4c-45b05844d143"
      },
      "execution_count": 16,
      "outputs": [
        {
          "output_type": "stream",
          "name": "stdout",
          "text": [
            "Epoch 1/30\n",
            "113/113 [==============================] - 925s 8s/step - loss: 2.5096 - accuracy: 0.9074 - val_loss: 0.0138 - val_accuracy: 0.9962\n",
            "Epoch 2/30\n",
            "113/113 [==============================] - 936s 8s/step - loss: 0.0778 - accuracy: 0.9857 - val_loss: 0.0057 - val_accuracy: 0.9962\n",
            "Epoch 3/30\n",
            "113/113 [==============================] - 926s 8s/step - loss: 0.0677 - accuracy: 0.9896 - val_loss: 0.0110 - val_accuracy: 0.9962\n",
            "Epoch 4/30\n",
            "113/113 [==============================] - 927s 8s/step - loss: 0.0217 - accuracy: 0.9949 - val_loss: 0.0592 - val_accuracy: 0.9925\n",
            "Epoch 5/30\n",
            "113/113 [==============================] - 925s 8s/step - loss: 0.0608 - accuracy: 0.9912 - val_loss: 0.0148 - val_accuracy: 0.9937\n",
            "Epoch 6/30\n",
            "113/113 [==============================] - 922s 8s/step - loss: 0.0671 - accuracy: 0.9896 - val_loss: 0.0949 - val_accuracy: 0.9962\n",
            "Epoch 7/30\n",
            "113/113 [==============================] - 925s 8s/step - loss: 0.0685 - accuracy: 0.9924 - val_loss: 0.0142 - val_accuracy: 0.9950\n",
            "Epoch 8/30\n",
            "113/113 [==============================] - 921s 8s/step - loss: 0.0749 - accuracy: 0.9926 - val_loss: 0.0013 - val_accuracy: 0.9987\n",
            "Epoch 9/30\n",
            "113/113 [==============================] - 920s 8s/step - loss: 0.0644 - accuracy: 0.9932 - val_loss: 0.0076 - val_accuracy: 0.9975\n",
            "Epoch 10/30\n",
            "113/113 [==============================] - 928s 8s/step - loss: 0.0606 - accuracy: 0.9932 - val_loss: 4.2042e-04 - val_accuracy: 1.0000\n",
            "Epoch 11/30\n",
            "113/113 [==============================] - 868s 8s/step - loss: 0.0062 - accuracy: 0.9978 - val_loss: 3.2773e-04 - val_accuracy: 1.0000\n",
            "Epoch 12/30\n",
            "113/113 [==============================] - 922s 8s/step - loss: 0.0057 - accuracy: 0.9989 - val_loss: 7.6038e-05 - val_accuracy: 1.0000\n",
            "Epoch 13/30\n",
            "113/113 [==============================] - 923s 8s/step - loss: 0.0287 - accuracy: 0.9975 - val_loss: 5.8913e-05 - val_accuracy: 1.0000\n",
            "Epoch 14/30\n",
            "113/113 [==============================] - 925s 8s/step - loss: 0.0149 - accuracy: 0.9992 - val_loss: 6.7944e-06 - val_accuracy: 1.0000\n",
            "Epoch 15/30\n",
            "113/113 [==============================] - 921s 8s/step - loss: 0.0095 - accuracy: 0.9990 - val_loss: 0.0055 - val_accuracy: 0.9987\n",
            "Epoch 16/30\n",
            "113/113 [==============================] - 874s 8s/step - loss: 0.0200 - accuracy: 0.9972 - val_loss: 0.0063 - val_accuracy: 0.9987\n",
            "Epoch 17/30\n",
            "113/113 [==============================] - 924s 8s/step - loss: 0.0132 - accuracy: 0.9985 - val_loss: 7.8625e-05 - val_accuracy: 1.0000\n",
            "Epoch 18/30\n",
            "113/113 [==============================] - 865s 8s/step - loss: 0.0691 - accuracy: 0.9911 - val_loss: 0.0049 - val_accuracy: 0.9975\n",
            "Epoch 19/30\n",
            "113/113 [==============================] - 923s 8s/step - loss: 0.0658 - accuracy: 0.9907 - val_loss: 0.0037 - val_accuracy: 0.9975\n",
            "Epoch 20/30\n",
            "113/113 [==============================] - 922s 8s/step - loss: 0.0548 - accuracy: 0.9935 - val_loss: 0.0569 - val_accuracy: 0.9987\n",
            "Epoch 21/30\n",
            "113/113 [==============================] - 921s 8s/step - loss: 0.0199 - accuracy: 0.9987 - val_loss: 0.0013 - val_accuracy: 1.0000\n",
            "Epoch 22/30\n",
            "113/113 [==============================] - 938s 8s/step - loss: 0.0048 - accuracy: 0.9992 - val_loss: 1.9051e-06 - val_accuracy: 1.0000\n",
            "Epoch 23/30\n",
            "113/113 [==============================] - 925s 8s/step - loss: 0.0105 - accuracy: 0.9981 - val_loss: 1.3784e-05 - val_accuracy: 1.0000\n",
            "Epoch 24/30\n",
            "113/113 [==============================] - 922s 8s/step - loss: 0.0051 - accuracy: 0.9986 - val_loss: 2.9600e-04 - val_accuracy: 1.0000\n",
            "Epoch 25/30\n",
            "113/113 [==============================] - 921s 8s/step - loss: 0.0061 - accuracy: 0.9989 - val_loss: 2.3166e-05 - val_accuracy: 1.0000\n",
            "Epoch 26/30\n",
            "113/113 [==============================] - 922s 8s/step - loss: 5.6108e-04 - accuracy: 0.9997 - val_loss: 4.9018e-06 - val_accuracy: 1.0000\n",
            "Epoch 27/30\n",
            "113/113 [==============================] - 923s 8s/step - loss: 9.9503e-04 - accuracy: 0.9994 - val_loss: 6.3009e-05 - val_accuracy: 1.0000\n",
            "Epoch 28/30\n",
            "113/113 [==============================] - 926s 8s/step - loss: 0.0027 - accuracy: 0.9994 - val_loss: 7.0932e-06 - val_accuracy: 1.0000\n",
            "Epoch 29/30\n",
            "113/113 [==============================] - 926s 8s/step - loss: 0.0062 - accuracy: 0.9996 - val_loss: 4.3407e-06 - val_accuracy: 1.0000\n",
            "Epoch 30/30\n",
            "113/113 [==============================] - 924s 8s/step - loss: 0.0155 - accuracy: 0.9987 - val_loss: 9.4466e-06 - val_accuracy: 1.0000\n"
          ]
        }
      ]
    },
    {
      "cell_type": "code",
      "source": [
        "# Validation veri seti için preprocess_input işlemi\n",
        "x_val_transfer_preprocessed = preprocess_input(x_val_transfer)\n",
        "# Test veri seti için preprocess_input işlemi\n",
        "x_test_transfer_preprocessed = preprocess_input(x_test_transfer)"
      ],
      "metadata": {
        "id": "wlJU2-xv4JUq"
      },
      "execution_count": 17,
      "outputs": []
    },
    {
      "cell_type": "code",
      "source": [
        "# Test verisinde performansı değerlendirme\n",
        "y_pred_transfer = model_transfer_learning.predict(x_test_transfer_preprocessed)\n",
        "y_pred_classes_transfer = np.argmax(y_pred_transfer, axis=1)\n",
        "y_test_classes_transfer = np.argmax(test_yCl_transfer, axis=1)"
      ],
      "metadata": {
        "id": "oKR2_RjAlcye",
        "colab": {
          "base_uri": "https://localhost:8080/"
        },
        "outputId": "e7795806-d241-4153-f828-bb302d2891d6"
      },
      "execution_count": 18,
      "outputs": [
        {
          "output_type": "stream",
          "name": "stdout",
          "text": [
            "63/63 [==============================] - 227s 4s/step\n"
          ]
        }
      ]
    },
    {
      "cell_type": "code",
      "source": [
        "# Transfer Learning modelini değerlendirme\n",
        "score_transfer_learning_val = model_transfer_learning.evaluate(x_val_transfer_preprocessed, valid_yCl_transfer)\n",
        "print(\"Validation Accuracy (Transfer Learning): \", score_transfer_learning_val[1])\n",
        "\n",
        "score_transfer_learning_test = model_transfer_learning.evaluate(x_test_transfer_preprocessed, test_yCl_transfer)\n",
        "print(\"Test Accuracy (Transfer Learning): \", score_transfer_learning_test[1])\n",
        "\n",
        "score_transfer_learning_train = model_transfer_learning.evaluate(x_train_transfer, traitrain_yCl_transfer)\n",
        "print(\"Train Accuracy (Transfer Learning): \", score_transfer_learning_train[1])\n"
      ],
      "metadata": {
        "id": "rNf1nK-rlvFP",
        "outputId": "c69597f8-01f3-48b5-c57a-edb319401316",
        "colab": {
          "base_uri": "https://localhost:8080/"
        }
      },
      "execution_count": 19,
      "outputs": [
        {
          "output_type": "stream",
          "name": "stdout",
          "text": [
            "25/25 [==============================] - 98s 4s/step - loss: 0.4417 - accuracy: 0.9725\n",
            "Validation Accuracy (Transfer Learning):  0.9725000262260437\n",
            "63/63 [==============================] - 215s 3s/step - loss: 0.2835 - accuracy: 0.9825\n",
            "Test Accuracy (Transfer Learning):  0.9825000166893005\n",
            "225/225 [==============================] - 770s 3s/step - loss: 4.3750e-05 - accuracy: 1.0000\n",
            "Train Accuracy (Transfer Learning):  1.0\n"
          ]
        }
      ]
    },
    {
      "cell_type": "code",
      "source": [
        "# Test verisinin Accuracy, Precision, Recall ve F1 skoru, Karmaşıklık Matrisi, Classification Report'u\n",
        "from sklearn.metrics import accuracy_score, precision_score, recall_score, f1_score, confusion_matrix, classification_report\n",
        "\n",
        "# Test verisi üzerinde tahmin yapma\n",
        "y_pred_transfer_learning = model_transfer_learning.predict(x_test_transfer_preprocessed)\n",
        "y_pred_classes_transfer_learning = np.argmax(y_pred_transfer_learning, axis=1)\n",
        "\n",
        "# One-hot encoding'i geri çevirme\n",
        "y_test_classes_transfer_learning = np.argmax(test_yCl_transfer, axis=1)\n",
        "\n",
        "# Accuracy\n",
        "accuracy_transfer_learning = accuracy_score(y_test_classes_transfer_learning, y_pred_classes_transfer_learning)\n",
        "print(\"Transfer Learning Test Accuracy: {:.2f}%\".format(accuracy_transfer_learning * 100))\n",
        "\n",
        "# Precision\n",
        "precision_transfer_learning = precision_score(y_test_classes_transfer_learning, y_pred_classes_transfer_learning, average='weighted')\n",
        "print(\"Transfer Learning Test Precision: {:.2f}\".format(precision_transfer_learning))\n",
        "\n",
        "# Recall\n",
        "recall_transfer_learning = recall_score(y_test_classes_transfer_learning, y_pred_classes_transfer_learning, average='weighted')\n",
        "print(\"Transfer Learning Test Recall: {:.2f}\".format(recall_transfer_learning))\n",
        "\n",
        "# F1 Score\n",
        "f1_transfer_learning = f1_score(y_test_classes_transfer_learning, y_pred_classes_transfer_learning, average='weighted')\n",
        "print(\"Transfer Learning Test F1 Score: {:.2f}\".format(f1_transfer_learning))\n",
        "\n",
        "# Karmaşıklık Matrisi\n",
        "conf_matrix_transfer_learning = confusion_matrix(y_test_classes_transfer_learning, y_pred_classes_transfer_learning)\n",
        "print(\"Transfer Learning Confusion Matrix:\\n\", conf_matrix_transfer_learning)\n",
        "\n",
        "# Classification Report\n",
        "class_report_transfer_learning = classification_report(y_test_classes_transfer_learning, y_pred_classes_transfer_learning)\n",
        "print(\"Transfer Learning Classification Report:\\n\", class_report_transfer_learning)"
      ],
      "metadata": {
        "id": "lKV_tn6S4d-_",
        "outputId": "bea2b22d-5e69-4a6b-a017-bb28829d05b6",
        "colab": {
          "base_uri": "https://localhost:8080/"
        }
      },
      "execution_count": 20,
      "outputs": [
        {
          "output_type": "stream",
          "name": "stdout",
          "text": [
            "63/63 [==============================] - 214s 3s/step\n",
            "Transfer Learning Test Accuracy: 98.25%\n",
            "Transfer Learning Test Precision: 0.98\n",
            "Transfer Learning Test Recall: 0.98\n",
            "Transfer Learning Test F1 Score: 0.98\n",
            "Transfer Learning Confusion Matrix:\n",
            " [[1007    5]\n",
            " [  30  958]]\n",
            "Transfer Learning Classification Report:\n",
            "               precision    recall  f1-score   support\n",
            "\n",
            "           0       0.97      1.00      0.98      1012\n",
            "           1       0.99      0.97      0.98       988\n",
            "\n",
            "    accuracy                           0.98      2000\n",
            "   macro avg       0.98      0.98      0.98      2000\n",
            "weighted avg       0.98      0.98      0.98      2000\n",
            "\n"
          ]
        }
      ]
    }
  ]
}