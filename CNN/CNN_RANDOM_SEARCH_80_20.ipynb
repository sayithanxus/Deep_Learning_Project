{
  "cells": [
    {
      "cell_type": "markdown",
      "metadata": {
        "id": "w6tBlq7AEWYs"
      },
      "source": [
        "# Veri Seti Bağlama"
      ]
    },
    {
      "cell_type": "code",
      "execution_count": 1,
      "metadata": {
        "colab": {
          "base_uri": "https://localhost:8080/"
        },
        "id": "ewVocNnIEiFb",
        "outputId": "97727ab8-c22b-4814-8eaf-3260dc4699cb"
      },
      "outputs": [
        {
          "output_type": "stream",
          "name": "stdout",
          "text": [
            "Drive already mounted at /gdrive; to attempt to forcibly remount, call drive.mount(\"/gdrive\", force_remount=True).\n"
          ]
        }
      ],
      "source": [
        "#Drive bağlantısı yapıldı\n",
        "from google.colab import drive\n",
        "drive.mount('/gdrive')"
      ]
    },
    {
      "cell_type": "code",
      "execution_count": 2,
      "metadata": {
        "id": "tKaP0_W5EwSy"
      },
      "outputs": [],
      "source": [
        "#Kütüphaneler eklendi\n",
        "import numpy as np\n",
        "import pandas as pd\n",
        "import matplotlib.pyplot as plt\n",
        "import seaborn as sns\n",
        "import cv2\n",
        "import os\n",
        "from sklearn.model_selection import train_test_split\n",
        "from keras.layers import Input, Dense, Activation, BatchNormalization, Flatten, Conv2D, MaxPooling2D, Dropout\n",
        "from keras.models import Sequential\n",
        "import tensorflow as tf\n",
        "from tensorflow import keras\n"
      ]
    },
    {
      "cell_type": "code",
      "execution_count": 3,
      "metadata": {
        "colab": {
          "base_uri": "https://localhost:8080/"
        },
        "id": "dc3BFoapEpku",
        "outputId": "6eb9e3a2-d8d8-413b-8b28-aa2300846c10"
      },
      "outputs": [
        {
          "output_type": "stream",
          "name": "stdout",
          "text": [
            "['Normal', 'Tumor']\n"
          ]
        }
      ],
      "source": [
        "print(os.listdir(\"/gdrive/MyDrive/Kidney Cancer\"))\n",
        "\n",
        "DATADIR = '/gdrive/MyDrive/Kidney Cancer'"
      ]
    },
    {
      "cell_type": "code",
      "execution_count": 4,
      "metadata": {
        "id": "8YONG2LgEpo2"
      },
      "outputs": [],
      "source": [
        "CATEGORIES = [\"Tumor\", \"Normal\"]\n",
        "IMG_SIZE = 220"
      ]
    },
    {
      "cell_type": "code",
      "execution_count": 5,
      "metadata": {
        "id": "TSoHNSppEzbG"
      },
      "outputs": [],
      "source": [
        "all_data = []\n",
        "def create_all_data():\n",
        "    for category in CATEGORIES:\n",
        "        path=os.path.join(DATADIR, category)\n",
        "        class_num=CATEGORIES.index(category)\n",
        "        for img in os.listdir(path):\n",
        "            try:\n",
        "                img_array=cv2.imread(os.path.join(path,img))\n",
        "                new_array=cv2.resize(img_array,(IMG_SIZE,IMG_SIZE))\n",
        "                all_data.append([new_array,class_num])\n",
        "            except Exception as e:\n",
        "                pass\n",
        "create_all_data()"
      ]
    },
    {
      "cell_type": "code",
      "execution_count": 6,
      "metadata": {
        "colab": {
          "base_uri": "https://localhost:8080/"
        },
        "id": "IYnye9_fE08_",
        "outputId": "43edc212-240f-4c49-9707-04dd20502f9b"
      },
      "outputs": [
        {
          "output_type": "stream",
          "name": "stdout",
          "text": [
            "Toplam Görüntü Sayısı:  10000\n"
          ]
        }
      ],
      "source": [
        "print(\"Toplam Görüntü Sayısı: \", len(all_data))\n"
      ]
    },
    {
      "cell_type": "code",
      "execution_count": 7,
      "metadata": {
        "id": "3xpEj2ahGTTo"
      },
      "outputs": [],
      "source": [
        "X = []\n",
        "y = []\n",
        "\n",
        "for categories, label in all_data:\n",
        "  X.append(categories)\n",
        "  y.append(label)"
      ]
    },
    {
      "cell_type": "markdown",
      "metadata": {
        "id": "HSZsWwaIGzcc"
      },
      "source": [
        "# %80 Train, %20 Test, %10 Validation"
      ]
    },
    {
      "cell_type": "code",
      "execution_count": 8,
      "metadata": {
        "id": "VvE4AvcMG-A_"
      },
      "outputs": [],
      "source": [
        "from sklearn.model_selection import train_test_split\n",
        "# 1. Durum: %80 Train, %20 Test, %10 Validation\n",
        "x_train, x_test, y_train, y_test = train_test_split(X, y, test_size=0.20, random_state =42)\n",
        "\n",
        "x_train, x_val, y_train, y_val = train_test_split(x_train, y_train, test_size=0.10, random_state=42)"
      ]
    },
    {
      "cell_type": "code",
      "execution_count": 9,
      "metadata": {
        "id": "U-bBCX-PG_-H"
      },
      "outputs": [],
      "source": [
        "x_train = np.array(x_train)\n",
        "x_test = np.array(x_test)\n",
        "\n",
        "y_train = np.array(y_train)\n",
        "y_test = np.array(y_test)\n",
        "\n",
        "x_val = np.array(x_val)\n",
        "y_val = np.array(y_val)"
      ]
    },
    {
      "cell_type": "code",
      "execution_count": 10,
      "metadata": {
        "colab": {
          "base_uri": "https://localhost:8080/"
        },
        "id": "yJ0rmMjCHKLu",
        "outputId": "0fd3cd8b-03b6-423d-a078-1e29dcc11487"
      },
      "outputs": [
        {
          "output_type": "stream",
          "name": "stdout",
          "text": [
            "(7200, 220, 220, 3)\n",
            "(2000, 220, 220, 3)\n",
            "(800, 220, 220, 3)\n",
            "(7200,)\n",
            "(2000,)\n",
            "(800,)\n"
          ]
        }
      ],
      "source": [
        "#1.Durum\n",
        "print(x_train.shape)\n",
        "print(x_test.shape)\n",
        "print(x_val.shape)\n",
        "\n",
        "print(y_train.shape)\n",
        "print(y_test.shape)\n",
        "print(y_val.shape)"
      ]
    },
    {
      "cell_type": "markdown",
      "metadata": {
        "id": "eIi0FpxeOv-n"
      },
      "source": [
        "#1.CNN MODEL TASARLAMA ,TRAIN,TEST,VALIDATION DEĞERLERİ,TEST VERİSİNİN ACCURACY,PRECISION,RECALL **VE** F1 SCORE,KARMAŞIKLIK MATRİSİ,CLASSIFICATİON REPORT GÖSTERME"
      ]
    },
    {
      "cell_type": "code",
      "execution_count": 11,
      "metadata": {
        "id": "C_IugAjGbFfX"
      },
      "outputs": [],
      "source": [
        "import tensorflow as tf\n",
        "\n",
        "train_yCl = tf.keras.utils.to_categorical(y_train, num_classes=2)\n",
        "test_yCl = tf.keras.utils.to_categorical(y_test, num_classes=2)\n",
        "valid_yCl = tf.keras.utils.to_categorical(y_val, num_classes=2)"
      ]
    },
    {
      "cell_type": "code",
      "execution_count": 12,
      "metadata": {
        "colab": {
          "base_uri": "https://localhost:8080/"
        },
        "id": "eX9J6cbviGr-",
        "outputId": "16ac6e2d-7515-4d86-8a7e-4254aa767b7b"
      },
      "outputs": [
        {
          "output_type": "stream",
          "name": "stdout",
          "text": [
            "Requirement already satisfied: keras-tuner in /usr/local/lib/python3.10/dist-packages (1.4.6)\n",
            "Requirement already satisfied: keras in /usr/local/lib/python3.10/dist-packages (from keras-tuner) (2.15.0)\n",
            "Requirement already satisfied: packaging in /usr/local/lib/python3.10/dist-packages (from keras-tuner) (23.2)\n",
            "Requirement already satisfied: requests in /usr/local/lib/python3.10/dist-packages (from keras-tuner) (2.31.0)\n",
            "Requirement already satisfied: kt-legacy in /usr/local/lib/python3.10/dist-packages (from keras-tuner) (1.0.5)\n",
            "Requirement already satisfied: charset-normalizer<4,>=2 in /usr/local/lib/python3.10/dist-packages (from requests->keras-tuner) (3.3.2)\n",
            "Requirement already satisfied: idna<4,>=2.5 in /usr/local/lib/python3.10/dist-packages (from requests->keras-tuner) (3.6)\n",
            "Requirement already satisfied: urllib3<3,>=1.21.1 in /usr/local/lib/python3.10/dist-packages (from requests->keras-tuner) (2.0.7)\n",
            "Requirement already satisfied: certifi>=2017.4.17 in /usr/local/lib/python3.10/dist-packages (from requests->keras-tuner) (2023.11.17)\n"
          ]
        }
      ],
      "source": [
        "!pip install keras-tuner\n",
        "import keras_tuner as kt"
      ]
    },
    {
      "cell_type": "code",
      "execution_count": 13,
      "metadata": {
        "id": "gKm1A_74bIQF",
        "colab": {
          "base_uri": "https://localhost:8080/"
        },
        "outputId": "c2699f1d-639f-43d2-8bc9-4a5b172afc68"
      },
      "outputs": [
        {
          "output_type": "stream",
          "name": "stderr",
          "text": [
            "<ipython-input-13-b59240cffd71>:1: DeprecationWarning: `import kerastuner` is deprecated, please use `import keras_tuner`.\n",
            "  from kerastuner.tuners import RandomSearch\n"
          ]
        }
      ],
      "source": [
        "from kerastuner.tuners import RandomSearch\n",
        "from tensorflow import keras\n",
        "from keras.models import Sequential\n",
        "from keras.layers import Input, Dense, Activation, BatchNormalization, Flatten, Conv2D, MaxPooling2D, Dropout\n",
        "\n",
        "def build_model(hp):\n",
        "    model = Sequential()\n",
        "\n",
        "    model.add(Conv2D(16,(3,3),padding=\"Same\",input_shape=(IMG_SIZE,IMG_SIZE,3)))\n",
        "    model.add(Activation('relu'))\n",
        "    model.add(Conv2D(16,(3,3),padding=\"Same\"))\n",
        "    model.add(Activation('relu'))\n",
        "    model.add(Conv2D(16, (3,3), padding=\"Same\"))\n",
        "    model.add(Activation('relu'))\n",
        "    model.add(MaxPooling2D(pool_size=(2,2)))\n",
        "    model.add(BatchNormalization())\n",
        "    model.add(Dropout(0.1))\n",
        "\n",
        "    model.add(Conv2D(32, (3,3), padding=\"Same\",input_shape=(IMG_SIZE,IMG_SIZE,3)))\n",
        "    model.add(Activation('relu'))\n",
        "    model.add(Conv2D(32, (3,3), padding=\"Same\"))\n",
        "    model.add(Activation('relu'))\n",
        "    model.add(Conv2D(32, (3,3), padding=\"Same\"))\n",
        "    model.add(Activation('relu'))\n",
        "    model.add(MaxPooling2D(pool_size=(2,2)))\n",
        "    model.add(BatchNormalization())\n",
        "    model.add(Dropout(0.1))\n",
        "\n",
        "    model.add(Conv2D(64, (3,3), padding=\"Same\",input_shape=(IMG_SIZE,IMG_SIZE,3)))\n",
        "    model.add(Activation('relu'))\n",
        "    model.add(Conv2D(64, (3,3) , padding=\"Same\"))\n",
        "    model.add(Activation('relu'))\n",
        "    model.add(Conv2D(64, (3,3) , padding=\"Same\"))\n",
        "    model.add(Activation('relu'))\n",
        "    model.add(MaxPooling2D(pool_size=(2,2)))\n",
        "    model.add(BatchNormalization())\n",
        "    model.add(Dropout(0.1))\n",
        "\n",
        "    model.add(Conv2D(128, (3,3), padding=\"Same\",input_shape=(IMG_SIZE,IMG_SIZE,3)))\n",
        "    model.add(Activation('relu'))\n",
        "    model.add(Conv2D(128, (3,3), padding=\"Same\"))\n",
        "    model.add(Activation('relu'))\n",
        "    model.add(Conv2D(128, (3,3), padding=\"Same\"))\n",
        "    model.add(Activation('relu'))\n",
        "    model.add(MaxPooling2D(pool_size=(2,2)))\n",
        "    model.add(BatchNormalization())\n",
        "    model.add(Dropout(0.1))\n",
        "\n",
        "    model.add(Flatten())\n",
        "    model.add(Dense(1024))\n",
        "    model.add(Activation('relu'))\n",
        "    model.add(Dropout(0.27))\n",
        "    model.add(Dense(1024))\n",
        "    model.add(Activation('relu'))\n",
        "    model.add(Dropout(0.27))\n",
        "    model.add(Dense(1024))\n",
        "    model.add(Activation('relu'))\n",
        "    model.add(Dense(2))\n",
        "    model.add(Activation('softmax'))\n",
        "\n",
        "    model.compile(loss=\"categorical_crossentropy\", optimizer=\"adam\", metrics=['accuracy'])\n",
        "    return model\n"
      ]
    },
    {
      "cell_type": "code",
      "execution_count": 14,
      "metadata": {
        "id": "9oXBih5TJ-tI"
      },
      "outputs": [],
      "source": [
        "from tensorflow import keras\n",
        "\n",
        "callback_list = [\n",
        "    keras.callbacks.ModelCheckpoint(\n",
        "        filepath='model.h5',\n",
        "        monitor = 'val_accuracy', save_best_only=True, verbose=3\n",
        "    ),\n",
        "    keras.callbacks.EarlyStopping(monitor='val_loss', patience=3, verbose=3)\n",
        "]"
      ]
    },
    {
      "cell_type": "code",
      "execution_count": 15,
      "metadata": {
        "id": "1gB2gkiTiW6T",
        "colab": {
          "base_uri": "https://localhost:8080/"
        },
        "outputId": "926e3bb4-4b33-4cfb-ccfb-040f6ef13118"
      },
      "outputs": [
        {
          "output_type": "stream",
          "name": "stdout",
          "text": [
            "Reloading Tuner from my_tuner_dir/kidney_cancer_tuning/tuner0.json\n"
          ]
        }
      ],
      "source": [
        "#Random Search - Hipermparametre Optimizasyonu\n",
        "tuner = RandomSearch(\n",
        "    build_model,\n",
        "    objective='val_accuracy',\n",
        "    directory='my_tuner_dir',\n",
        "    project_name='kidney_cancer_tuning'\n",
        ")"
      ]
    },
    {
      "cell_type": "code",
      "execution_count": 16,
      "metadata": {
        "id": "gqBFz84_j-iE"
      },
      "outputs": [],
      "source": [
        "tuner.search(x_train, train_yCl, validation_data=(x_val, valid_yCl),batch_size=32)"
      ]
    },
    {
      "cell_type": "code",
      "execution_count": 17,
      "metadata": {
        "id": "Igkfa8hKkMVd"
      },
      "outputs": [],
      "source": [
        "#En iyi değeri alma\n",
        "best_hps = tuner.get_best_hyperparameters(num_trials=1)[0]\n",
        "\n",
        "model = tuner.hypermodel.build(best_hps)"
      ]
    },
    {
      "cell_type": "code",
      "execution_count": 18,
      "metadata": {
        "colab": {
          "base_uri": "https://localhost:8080/"
        },
        "id": "g23Zc77IOh80",
        "outputId": "9397c31d-7e28-4275-a624-829c5573555f"
      },
      "outputs": [
        {
          "output_type": "stream",
          "name": "stdout",
          "text": [
            "Epoch 1/50\n",
            "\n",
            "Epoch 1: val_accuracy improved from -inf to 0.58500, saving model to model.h5\n"
          ]
        },
        {
          "output_type": "stream",
          "name": "stderr",
          "text": [
            "/usr/local/lib/python3.10/dist-packages/keras/src/engine/training.py:3103: UserWarning: You are saving your model as an HDF5 file via `model.save()`. This file format is considered legacy. We recommend using instead the native Keras format, e.g. `model.save('my_model.keras')`.\n",
            "  saving_api.save_model(\n"
          ]
        },
        {
          "output_type": "stream",
          "name": "stdout",
          "text": [
            "Epoch 2/50\n",
            "\n",
            "Epoch 2: val_accuracy improved from 0.58500 to 0.90375, saving model to model.h5\n",
            "Epoch 3/50\n",
            "\n",
            "Epoch 3: val_accuracy did not improve from 0.90375\n",
            "Epoch 4/50\n",
            "\n",
            "Epoch 4: val_accuracy improved from 0.90375 to 0.99625, saving model to model.h5\n",
            "Epoch 5/50\n",
            "\n",
            "Epoch 5: val_accuracy did not improve from 0.99625\n",
            "Epoch 6/50\n",
            "\n",
            "Epoch 6: val_accuracy did not improve from 0.99625\n",
            "Epoch 7/50\n",
            "\n",
            "Epoch 7: val_accuracy did not improve from 0.99625\n",
            "Epoch 7: early stopping\n"
          ]
        }
      ],
      "source": [
        "#Model Eğitimi\n",
        "history = model.fit(x_train,\n",
        "                    train_yCl,\n",
        "                    validation_data=(x_val, valid_yCl),\n",
        "                    batch_size=32,\n",
        "                    epochs=50,\n",
        "                    callbacks = callback_list,\n",
        "                    verbose=3)"
      ]
    },
    {
      "cell_type": "code",
      "execution_count": 19,
      "metadata": {
        "id": "ea61TmGCOlGM",
        "colab": {
          "base_uri": "https://localhost:8080/"
        },
        "outputId": "aec18216-af64-452f-b419-cdeb84023ca3"
      },
      "outputs": [
        {
          "output_type": "stream",
          "name": "stdout",
          "text": [
            "25/25 [==============================] - 1s 26ms/step - loss: 0.7057 - accuracy: 0.8012\n",
            "Validation Accuracy:  0.8012499809265137\n",
            "63/63 [==============================] - 3s 41ms/step - loss: 0.7324 - accuracy: 0.7970\n",
            "Validation Accuracy:  0.796999990940094\n",
            "225/225 [==============================] - 7s 30ms/step - loss: 0.6917 - accuracy: 0.8010\n",
            "Validation Accuracy:  0.8009722232818604\n"
          ]
        }
      ],
      "source": [
        "score_valid = model.evaluate(x_val, valid_yCl)\n",
        "print(\"Validation Accuracy: \", score_valid[1])\n",
        "\n",
        "score_test = model.evaluate(x_test, test_yCl)\n",
        "print(\"Validation Accuracy: \", score_test[1])\n",
        "\n",
        "score_train = model.evaluate(x_train, train_yCl)\n",
        "print(\"Validation Accuracy: \", score_train[1])"
      ]
    },
    {
      "cell_type": "code",
      "source": [
        "#Test verisinin Accuracy, Precision, Recall ve F1 skoru, Karmaşıklık Matrisi, Classification Report'u\n",
        "from sklearn.metrics import accuracy_score, precision_score, recall_score, f1_score, confusion_matrix, classification_report\n",
        "\n",
        "# Test verisi üzerinde tahmin yapma\n",
        "y_pred = model.predict(x_test)\n",
        "y_pred_classes = np.argmax(y_pred, axis=1)\n",
        "\n",
        "# One-hot encoding'i geri çevirme\n",
        "y_test_classes = np.argmax(test_yCl, axis=1)\n",
        "\n",
        "# Accuracy\n",
        "accuracy = accuracy_score(y_test_classes, y_pred_classes)\n",
        "print(\"Test Accuracy: {:.2f}%\".format(accuracy * 100))\n",
        "\n",
        "# Precision\n",
        "precision = precision_score(y_test_classes, y_pred_classes, average='weighted')\n",
        "print(\"Test Precision: {:.2f}\".format(precision))\n",
        "\n",
        "# Recall\n",
        "recall = recall_score(y_test_classes, y_pred_classes, average='weighted')\n",
        "print(\"Test Recall: {:.2f}\".format(recall))\n",
        "\n",
        "# F1 Score\n",
        "f1 = f1_score(y_test_classes, y_pred_classes, average='weighted')\n",
        "print(\"Test F1 Score: {:.2f}\".format(f1))\n",
        "\n",
        "# Karmaşıklık Matrisi\n",
        "conf_matrix = confusion_matrix(y_test_classes, y_pred_classes)\n",
        "print(\"Confusion Matrix:\\n\", conf_matrix)\n",
        "\n",
        "# Classification Report\n",
        "class_report = classification_report(y_test_classes, y_pred_classes)\n",
        "print(\"Classification Report:\\n\", class_report)\n",
        "\n"
      ],
      "metadata": {
        "id": "S42vrqZSgSdv",
        "colab": {
          "base_uri": "https://localhost:8080/"
        },
        "outputId": "ea853c52-4363-4945-fc49-f721fc6d4f34"
      },
      "execution_count": 20,
      "outputs": [
        {
          "output_type": "stream",
          "name": "stdout",
          "text": [
            "63/63 [==============================] - 3s 30ms/step\n",
            "Test Accuracy: 79.70%\n",
            "Test Precision: 0.86\n",
            "Test Recall: 0.80\n",
            "Test F1 Score: 0.79\n",
            "Confusion Matrix:\n",
            " [[606 406]\n",
            " [  0 988]]\n",
            "Classification Report:\n",
            "               precision    recall  f1-score   support\n",
            "\n",
            "           0       1.00      0.60      0.75      1012\n",
            "           1       0.71      1.00      0.83       988\n",
            "\n",
            "    accuracy                           0.80      2000\n",
            "   macro avg       0.85      0.80      0.79      2000\n",
            "weighted avg       0.86      0.80      0.79      2000\n",
            "\n"
          ]
        }
      ]
    }
  ],
  "metadata": {
    "accelerator": "GPU",
    "colab": {
      "collapsed_sections": [
        "w6tBlq7AEWYs",
        "HSZsWwaIGzcc"
      ],
      "provenance": [],
      "gpuType": "T4"
    },
    "kernelspec": {
      "display_name": "Python 3",
      "name": "python3"
    },
    "language_info": {
      "name": "python"
    }
  },
  "nbformat": 4,
  "nbformat_minor": 0
}
