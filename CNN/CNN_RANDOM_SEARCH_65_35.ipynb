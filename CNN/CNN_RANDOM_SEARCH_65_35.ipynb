{
  "cells": [
    {
      "cell_type": "markdown",
      "metadata": {
        "id": "w6tBlq7AEWYs"
      },
      "source": [
        "# Veri Seti Bağlama"
      ]
    },
    {
      "cell_type": "code",
      "execution_count": 1,
      "metadata": {
        "colab": {
          "base_uri": "https://localhost:8080/"
        },
        "id": "ewVocNnIEiFb",
        "outputId": "fc0e14bf-af5c-4319-cb6b-3c2b9aed37c6"
      },
      "outputs": [
        {
          "output_type": "stream",
          "name": "stdout",
          "text": [
            "Mounted at /gdrive\n"
          ]
        }
      ],
      "source": [
        "#Drive bağlantısı yapıldı\n",
        "from google.colab import drive\n",
        "drive.mount('/gdrive')"
      ]
    },
    {
      "cell_type": "code",
      "execution_count": 2,
      "metadata": {
        "id": "tKaP0_W5EwSy"
      },
      "outputs": [],
      "source": [
        "#Kütüphaneler eklendi\n",
        "import numpy as np\n",
        "import pandas as pd\n",
        "import matplotlib.pyplot as plt\n",
        "import seaborn as sns\n",
        "import cv2\n",
        "import os\n",
        "from sklearn.model_selection import train_test_split\n",
        "from keras.layers import Input, Dense, Activation, BatchNormalization, Flatten, Conv2D, MaxPooling2D, Dropout\n",
        "from keras.models import Sequential\n",
        "import tensorflow as tf\n",
        "from tensorflow import keras\n"
      ]
    },
    {
      "cell_type": "code",
      "execution_count": 3,
      "metadata": {
        "colab": {
          "base_uri": "https://localhost:8080/"
        },
        "id": "dc3BFoapEpku",
        "outputId": "db9a5024-5588-4407-d2fb-2ae9d41abf70"
      },
      "outputs": [
        {
          "output_type": "stream",
          "name": "stdout",
          "text": [
            "['Normal', 'Tumor']\n"
          ]
        }
      ],
      "source": [
        "print(os.listdir(\"/gdrive/MyDrive/Kidney Cancer\"))\n",
        "\n",
        "DATADIR = '/gdrive/MyDrive/Kidney Cancer'"
      ]
    },
    {
      "cell_type": "code",
      "execution_count": 4,
      "metadata": {
        "id": "8YONG2LgEpo2"
      },
      "outputs": [],
      "source": [
        "CATEGORIES = [\"Tumor\", \"Normal\"]\n",
        "IMG_SIZE = 220"
      ]
    },
    {
      "cell_type": "code",
      "execution_count": 5,
      "metadata": {
        "id": "TSoHNSppEzbG"
      },
      "outputs": [],
      "source": [
        "all_data = []\n",
        "def create_all_data():\n",
        "    for category in CATEGORIES:\n",
        "        path=os.path.join(DATADIR, category)\n",
        "        class_num=CATEGORIES.index(category)\n",
        "        for img in os.listdir(path):\n",
        "            try:\n",
        "                img_array=cv2.imread(os.path.join(path,img))\n",
        "                new_array=cv2.resize(img_array,(IMG_SIZE,IMG_SIZE))\n",
        "                all_data.append([new_array,class_num])\n",
        "            except Exception as e:\n",
        "                pass\n",
        "create_all_data()"
      ]
    },
    {
      "cell_type": "code",
      "execution_count": 6,
      "metadata": {
        "colab": {
          "base_uri": "https://localhost:8080/"
        },
        "id": "IYnye9_fE08_",
        "outputId": "572a53b3-337b-4c58-a856-798daa81f916"
      },
      "outputs": [
        {
          "output_type": "stream",
          "name": "stdout",
          "text": [
            "Toplam Görüntü Sayısı:  10000\n"
          ]
        }
      ],
      "source": [
        "print(\"Toplam Görüntü Sayısı: \", len(all_data))\n"
      ]
    },
    {
      "cell_type": "code",
      "execution_count": 7,
      "metadata": {
        "id": "3xpEj2ahGTTo"
      },
      "outputs": [],
      "source": [
        "X = []\n",
        "y = []\n",
        "\n",
        "for categories, label in all_data:\n",
        "  X.append(categories)\n",
        "  y.append(label)"
      ]
    },
    {
      "cell_type": "markdown",
      "metadata": {
        "id": "HSZsWwaIGzcc"
      },
      "source": [
        "# %65 Train, %35 Test, %10 Validation\n",
        "\n",
        "1.   Liste öğesi\n",
        "2.   Liste öğesi\n",
        "\n"
      ]
    },
    {
      "cell_type": "code",
      "execution_count": 8,
      "metadata": {
        "id": "VvE4AvcMG-A_"
      },
      "outputs": [],
      "source": [
        "from sklearn.model_selection import train_test_split\n",
        "\n",
        "x_train, x_test, y_train, y_test = train_test_split(X, y, test_size=0.35, random_state =42)\n",
        "\n",
        "x_train, x_val, y_train, y_val = train_test_split(x_train, y_train, test_size=0.10, random_state=42)"
      ]
    },
    {
      "cell_type": "code",
      "execution_count": 9,
      "metadata": {
        "id": "U-bBCX-PG_-H"
      },
      "outputs": [],
      "source": [
        "x_train = np.array(x_train)\n",
        "x_test = np.array(x_test)\n",
        "\n",
        "y_train = np.array(y_train)\n",
        "y_test = np.array(y_test)\n",
        "\n",
        "x_val = np.array(x_val)\n",
        "y_val = np.array(y_val)"
      ]
    },
    {
      "cell_type": "code",
      "execution_count": 10,
      "metadata": {
        "colab": {
          "base_uri": "https://localhost:8080/"
        },
        "id": "yJ0rmMjCHKLu",
        "outputId": "c9839702-cf3f-4af4-cc43-eb3d3f98f69d"
      },
      "outputs": [
        {
          "output_type": "stream",
          "name": "stdout",
          "text": [
            "(5850, 220, 220, 3)\n",
            "(3500, 220, 220, 3)\n",
            "(650, 220, 220, 3)\n",
            "(5850,)\n",
            "(3500,)\n",
            "(650,)\n"
          ]
        }
      ],
      "source": [
        "#4.Durum\n",
        "print(x_train.shape)\n",
        "print(x_test.shape)\n",
        "print(x_val.shape)\n",
        "\n",
        "print(y_train.shape)\n",
        "print(y_test.shape)\n",
        "print(y_val.shape)"
      ]
    },
    {
      "cell_type": "markdown",
      "metadata": {
        "id": "eIi0FpxeOv-n"
      },
      "source": [
        "#1.CNN MODEL TASARLAMA ,TRAIN,TEST,VALIDATION DEĞERLERİ,TEST VERİSİNİN ACCURACY,PRECISION,RECALL **VE** F1 SCORE,KARMAŞIKLIK MATRİSİ,CLASSIFICATİON REPORT GÖSTERME"
      ]
    },
    {
      "cell_type": "code",
      "execution_count": 11,
      "metadata": {
        "id": "C_IugAjGbFfX"
      },
      "outputs": [],
      "source": [
        "import tensorflow as tf\n",
        "\n",
        "train_yCl = tf.keras.utils.to_categorical(y_train, num_classes=2)\n",
        "test_yCl = tf.keras.utils.to_categorical(y_test, num_classes=2)\n",
        "valid_yCl = tf.keras.utils.to_categorical(y_val, num_classes=2)"
      ]
    },
    {
      "cell_type": "code",
      "execution_count": 12,
      "metadata": {
        "colab": {
          "base_uri": "https://localhost:8080/"
        },
        "id": "eX9J6cbviGr-",
        "outputId": "1c219e75-e62b-443c-c05a-1f7d2cd6c129"
      },
      "outputs": [
        {
          "output_type": "stream",
          "name": "stdout",
          "text": [
            "Collecting keras-tuner\n",
            "  Downloading keras_tuner-1.4.6-py3-none-any.whl (128 kB)\n",
            "\u001b[?25l     \u001b[90m━━━━━━━━━━━━━━━━━━━━━━━━━━━━━━━━━━━━━━━━\u001b[0m \u001b[32m0.0/128.9 kB\u001b[0m \u001b[31m?\u001b[0m eta \u001b[36m-:--:--\u001b[0m\r\u001b[2K     \u001b[91m━━━━━━━━━━━━━━━━━━━━━━━━━━━━\u001b[0m\u001b[91m╸\u001b[0m\u001b[90m━━━━━━━━━━━\u001b[0m \u001b[32m92.2/128.9 kB\u001b[0m \u001b[31m2.5 MB/s\u001b[0m eta \u001b[36m0:00:01\u001b[0m\r\u001b[2K     \u001b[90m━━━━━━━━━━━━━━━━━━━━━━━━━━━━━━━━━━━━━━━━\u001b[0m \u001b[32m128.9/128.9 kB\u001b[0m \u001b[31m2.7 MB/s\u001b[0m eta \u001b[36m0:00:00\u001b[0m\n",
            "\u001b[?25hRequirement already satisfied: keras in /usr/local/lib/python3.10/dist-packages (from keras-tuner) (2.15.0)\n",
            "Requirement already satisfied: packaging in /usr/local/lib/python3.10/dist-packages (from keras-tuner) (23.2)\n",
            "Requirement already satisfied: requests in /usr/local/lib/python3.10/dist-packages (from keras-tuner) (2.31.0)\n",
            "Collecting kt-legacy (from keras-tuner)\n",
            "  Downloading kt_legacy-1.0.5-py3-none-any.whl (9.6 kB)\n",
            "Requirement already satisfied: charset-normalizer<4,>=2 in /usr/local/lib/python3.10/dist-packages (from requests->keras-tuner) (3.3.2)\n",
            "Requirement already satisfied: idna<4,>=2.5 in /usr/local/lib/python3.10/dist-packages (from requests->keras-tuner) (3.6)\n",
            "Requirement already satisfied: urllib3<3,>=1.21.1 in /usr/local/lib/python3.10/dist-packages (from requests->keras-tuner) (2.0.7)\n",
            "Requirement already satisfied: certifi>=2017.4.17 in /usr/local/lib/python3.10/dist-packages (from requests->keras-tuner) (2023.11.17)\n",
            "Installing collected packages: kt-legacy, keras-tuner\n",
            "Successfully installed keras-tuner-1.4.6 kt-legacy-1.0.5\n"
          ]
        }
      ],
      "source": [
        "!pip install keras-tuner\n",
        "import keras_tuner as kt"
      ]
    },
    {
      "cell_type": "code",
      "execution_count": 13,
      "metadata": {
        "id": "gKm1A_74bIQF",
        "colab": {
          "base_uri": "https://localhost:8080/"
        },
        "outputId": "d31661c5-ec9f-4db1-8ae5-b34dedacaae3"
      },
      "outputs": [
        {
          "output_type": "stream",
          "name": "stderr",
          "text": [
            "<ipython-input-13-b59240cffd71>:1: DeprecationWarning: `import kerastuner` is deprecated, please use `import keras_tuner`.\n",
            "  from kerastuner.tuners import RandomSearch\n"
          ]
        }
      ],
      "source": [
        "from kerastuner.tuners import RandomSearch\n",
        "from tensorflow import keras\n",
        "from keras.models import Sequential\n",
        "from keras.layers import Input, Dense, Activation, BatchNormalization, Flatten, Conv2D, MaxPooling2D, Dropout\n",
        "\n",
        "def build_model(hp):\n",
        "    model = Sequential()\n",
        "\n",
        "    model.add(Conv2D(16,(3,3),padding=\"Same\",input_shape=(IMG_SIZE,IMG_SIZE,3)))\n",
        "    model.add(Activation('relu'))\n",
        "    model.add(Conv2D(16,(3,3),padding=\"Same\"))\n",
        "    model.add(Activation('relu'))\n",
        "    model.add(Conv2D(16, (3,3), padding=\"Same\"))\n",
        "    model.add(Activation('relu'))\n",
        "    model.add(MaxPooling2D(pool_size=(2,2)))\n",
        "    model.add(BatchNormalization())\n",
        "    model.add(Dropout(0.1))\n",
        "\n",
        "    model.add(Conv2D(32, (3,3), padding=\"Same\",input_shape=(IMG_SIZE,IMG_SIZE,3)))\n",
        "    model.add(Activation('relu'))\n",
        "    model.add(Conv2D(32, (3,3), padding=\"Same\"))\n",
        "    model.add(Activation('relu'))\n",
        "    model.add(Conv2D(32, (3,3), padding=\"Same\"))\n",
        "    model.add(Activation('relu'))\n",
        "    model.add(MaxPooling2D(pool_size=(2,2)))\n",
        "    model.add(BatchNormalization())\n",
        "    model.add(Dropout(0.1))\n",
        "\n",
        "    model.add(Conv2D(64, (3,3), padding=\"Same\",input_shape=(IMG_SIZE,IMG_SIZE,3)))\n",
        "    model.add(Activation('relu'))\n",
        "    model.add(Conv2D(64, (3,3) , padding=\"Same\"))\n",
        "    model.add(Activation('relu'))\n",
        "    model.add(Conv2D(64, (3,3) , padding=\"Same\"))\n",
        "    model.add(Activation('relu'))\n",
        "    model.add(MaxPooling2D(pool_size=(2,2)))\n",
        "    model.add(BatchNormalization())\n",
        "    model.add(Dropout(0.1))\n",
        "\n",
        "    model.add(Conv2D(128, (3,3), padding=\"Same\",input_shape=(IMG_SIZE,IMG_SIZE,3)))\n",
        "    model.add(Activation('relu'))\n",
        "    model.add(Conv2D(128, (3,3), padding=\"Same\"))\n",
        "    model.add(Activation('relu'))\n",
        "    model.add(Conv2D(128, (3,3), padding=\"Same\"))\n",
        "    model.add(Activation('relu'))\n",
        "    model.add(MaxPooling2D(pool_size=(2,2)))\n",
        "    model.add(BatchNormalization())\n",
        "    model.add(Dropout(0.1))\n",
        "\n",
        "    model.add(Flatten())\n",
        "    model.add(Dense(1024))\n",
        "    model.add(Activation('relu'))\n",
        "    model.add(Dropout(0.27))\n",
        "    model.add(Dense(1024))\n",
        "    model.add(Activation('relu'))\n",
        "    model.add(Dropout(0.27))\n",
        "    model.add(Dense(1024))\n",
        "    model.add(Activation('relu'))\n",
        "    model.add(Dense(2))\n",
        "    model.add(Activation('softmax'))\n",
        "\n",
        "    model.compile(loss=\"categorical_crossentropy\", optimizer=\"adam\", metrics=['accuracy'])\n",
        "    return model\n"
      ]
    },
    {
      "cell_type": "code",
      "execution_count": 14,
      "metadata": {
        "id": "9oXBih5TJ-tI"
      },
      "outputs": [],
      "source": [
        "from tensorflow import keras\n",
        "\n",
        "callback_list = [\n",
        "    keras.callbacks.ModelCheckpoint(\n",
        "        filepath='model.h5',\n",
        "        monitor = 'val_accuracy', save_best_only=True, verbose=3\n",
        "    ),\n",
        "    keras.callbacks.EarlyStopping(monitor='val_loss', patience=3, verbose=3)\n",
        "]"
      ]
    },
    {
      "cell_type": "code",
      "execution_count": 15,
      "metadata": {
        "id": "1gB2gkiTiW6T"
      },
      "outputs": [],
      "source": [
        "#Random Search - Hipermparametre Optimizasyonu\n",
        "tuner = RandomSearch(\n",
        "    build_model,\n",
        "    objective='val_accuracy',\n",
        "    directory='my_tuner_dir',\n",
        "    project_name='kidney_cancer_tuning'\n",
        ")"
      ]
    },
    {
      "cell_type": "code",
      "execution_count": 16,
      "metadata": {
        "id": "gqBFz84_j-iE",
        "colab": {
          "base_uri": "https://localhost:8080/"
        },
        "outputId": "86da0364-5778-44ba-efe2-b935b28a5996"
      },
      "outputs": [
        {
          "output_type": "stream",
          "name": "stdout",
          "text": [
            "Trial 1 Complete [00h 01m 28s]\n",
            "val_accuracy: 0.8261538743972778\n",
            "\n",
            "Best val_accuracy So Far: 0.8261538743972778\n",
            "Total elapsed time: 00h 01m 28s\n"
          ]
        }
      ],
      "source": [
        "tuner.search(x_train, train_yCl, validation_data=(x_val, valid_yCl),batch_size=32,verbose=3)"
      ]
    },
    {
      "cell_type": "code",
      "execution_count": 17,
      "metadata": {
        "id": "Igkfa8hKkMVd"
      },
      "outputs": [],
      "source": [
        "#En iyi değeri alma\n",
        "best_hps = tuner.get_best_hyperparameters(num_trials=1)[0]\n",
        "\n",
        "model = tuner.hypermodel.build(best_hps)"
      ]
    },
    {
      "cell_type": "code",
      "execution_count": 18,
      "metadata": {
        "colab": {
          "base_uri": "https://localhost:8080/"
        },
        "id": "g23Zc77IOh80",
        "outputId": "4ff38e95-2f62-49ba-8bd9-caea925e8996"
      },
      "outputs": [
        {
          "output_type": "stream",
          "name": "stdout",
          "text": [
            "Epoch 1/50\n",
            "\n",
            "Epoch 1: val_accuracy improved from -inf to 0.80923, saving model to model.h5\n"
          ]
        },
        {
          "output_type": "stream",
          "name": "stderr",
          "text": [
            "/usr/local/lib/python3.10/dist-packages/keras/src/engine/training.py:3103: UserWarning: You are saving your model as an HDF5 file via `model.save()`. This file format is considered legacy. We recommend using instead the native Keras format, e.g. `model.save('my_model.keras')`.\n",
            "  saving_api.save_model(\n"
          ]
        },
        {
          "output_type": "stream",
          "name": "stdout",
          "text": [
            "Epoch 2/50\n",
            "\n",
            "Epoch 2: val_accuracy improved from 0.80923 to 0.94615, saving model to model.h5\n",
            "Epoch 3/50\n",
            "\n",
            "Epoch 3: val_accuracy improved from 0.94615 to 0.97846, saving model to model.h5\n",
            "Epoch 4/50\n",
            "\n",
            "Epoch 4: val_accuracy did not improve from 0.97846\n",
            "Epoch 5/50\n",
            "\n",
            "Epoch 5: val_accuracy did not improve from 0.97846\n",
            "Epoch 6/50\n",
            "\n",
            "Epoch 6: val_accuracy did not improve from 0.97846\n",
            "Epoch 6: early stopping\n"
          ]
        }
      ],
      "source": [
        "#Model Eğitimi\n",
        "history = model.fit(x_train,\n",
        "                    train_yCl,\n",
        "                    validation_data=(x_val, valid_yCl),\n",
        "                    batch_size=32,\n",
        "                    epochs=50,\n",
        "                    callbacks = callback_list,\n",
        "                    verbose=3)"
      ]
    },
    {
      "cell_type": "code",
      "execution_count": 19,
      "metadata": {
        "id": "ea61TmGCOlGM",
        "colab": {
          "base_uri": "https://localhost:8080/"
        },
        "outputId": "d29462f5-0ab0-4c6d-abcd-22936fe3a655"
      },
      "outputs": [
        {
          "output_type": "stream",
          "name": "stdout",
          "text": [
            "21/21 [==============================] - 1s 26ms/step - loss: 0.2800 - accuracy: 0.9215\n",
            "Validation Accuracy:  0.9215384721755981\n",
            "110/110 [==============================] - 4s 34ms/step - loss: 0.2810 - accuracy: 0.9189\n",
            "Validation Accuracy:  0.9188571572303772\n",
            "183/183 [==============================] - 5s 26ms/step - loss: 0.2595 - accuracy: 0.9207\n",
            "Validation Accuracy:  0.920683741569519\n"
          ]
        }
      ],
      "source": [
        "score_valid = model.evaluate(x_val, valid_yCl)\n",
        "print(\"Validation Accuracy: \", score_valid[1])\n",
        "\n",
        "score_test = model.evaluate(x_test, test_yCl)\n",
        "print(\"Validation Accuracy: \", score_test[1])\n",
        "\n",
        "score_train = model.evaluate(x_train, train_yCl)\n",
        "print(\"Validation Accuracy: \", score_train[1])"
      ]
    },
    {
      "cell_type": "code",
      "source": [
        "#Test verisinin Accuracy, Precision, Recall ve F1 skoru, Karmaşıklık Matrisi, Classification Report'u\n",
        "from sklearn.metrics import accuracy_score, precision_score, recall_score, f1_score, confusion_matrix, classification_report\n",
        "\n",
        "# Test verisi üzerinde tahmin yapma\n",
        "y_pred = model.predict(x_test)\n",
        "y_pred_classes = np.argmax(y_pred, axis=1)\n",
        "\n",
        "# One-hot encoding'i geri çevirme\n",
        "y_test_classes = np.argmax(test_yCl, axis=1)\n",
        "\n",
        "# Accuracy\n",
        "accuracy = accuracy_score(y_test_classes, y_pred_classes)\n",
        "print(\"Test Accuracy: {:.2f}%\".format(accuracy * 100))\n",
        "\n",
        "# Precision\n",
        "precision = precision_score(y_test_classes, y_pred_classes, average='weighted')\n",
        "print(\"Test Precision: {:.2f}\".format(precision))\n",
        "\n",
        "# Recall\n",
        "recall = recall_score(y_test_classes, y_pred_classes, average='weighted')\n",
        "print(\"Test Recall: {:.2f}\".format(recall))\n",
        "\n",
        "# F1 Score\n",
        "f1 = f1_score(y_test_classes, y_pred_classes, average='weighted')\n",
        "print(\"Test F1 Score: {:.2f}\".format(f1))\n",
        "\n",
        "# Karmaşıklık Matrisi\n",
        "conf_matrix = confusion_matrix(y_test_classes, y_pred_classes)\n",
        "print(\"Confusion Matrix:\\n\", conf_matrix)\n",
        "\n",
        "# Classification Report\n",
        "class_report = classification_report(y_test_classes, y_pred_classes)\n",
        "print(\"Classification Report:\\n\", class_report)\n",
        "\n"
      ],
      "metadata": {
        "id": "S42vrqZSgSdv",
        "colab": {
          "base_uri": "https://localhost:8080/"
        },
        "outputId": "a041f191-0eea-49f6-e318-838ba48a6473"
      },
      "execution_count": 20,
      "outputs": [
        {
          "output_type": "stream",
          "name": "stdout",
          "text": [
            "110/110 [==============================] - 3s 26ms/step\n",
            "Test Accuracy: 91.89%\n",
            "Test Precision: 0.93\n",
            "Test Recall: 0.92\n",
            "Test F1 Score: 0.92\n",
            "Confusion Matrix:\n",
            " [[1502  284]\n",
            " [   0 1714]]\n",
            "Classification Report:\n",
            "               precision    recall  f1-score   support\n",
            "\n",
            "           0       1.00      0.84      0.91      1786\n",
            "           1       0.86      1.00      0.92      1714\n",
            "\n",
            "    accuracy                           0.92      3500\n",
            "   macro avg       0.93      0.92      0.92      3500\n",
            "weighted avg       0.93      0.92      0.92      3500\n",
            "\n"
          ]
        }
      ]
    }
  ],
  "metadata": {
    "accelerator": "GPU",
    "colab": {
      "provenance": [],
      "gpuType": "T4",
      "collapsed_sections": [
        "HSZsWwaIGzcc"
      ]
    },
    "kernelspec": {
      "display_name": "Python 3",
      "name": "python3"
    },
    "language_info": {
      "name": "python"
    }
  },
  "nbformat": 4,
  "nbformat_minor": 0
}